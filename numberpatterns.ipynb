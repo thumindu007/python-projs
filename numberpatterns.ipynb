{
  "nbformat": 4,
  "nbformat_minor": 0,
  "metadata": {
    "colab": {
      "name": "numberpatterns.ipynb",
      "provenance": [],
      "authorship_tag": "ABX9TyMxk1HKR8vgLIF3xrCIfrFj",
      "include_colab_link": true
    },
    "kernelspec": {
      "name": "python3",
      "display_name": "Python 3"
    },
    "language_info": {
      "name": "python"
    }
  },
  "cells": [
    {
      "cell_type": "markdown",
      "metadata": {
        "id": "view-in-github",
        "colab_type": "text"
      },
      "source": [
        "<a href=\"https://colab.research.google.com/github/thumindu007/python-projs/blob/main/numberpatterns.ipynb\" target=\"_parent\"><img src=\"https://colab.research.google.com/assets/colab-badge.svg\" alt=\"Open In Colab\"/></a>"
      ]
    },
    {
      "cell_type": "code",
      "metadata": {
        "colab": {
          "base_uri": "https://localhost:8080/"
        },
        "id": "IooXf5eyDEr2",
        "outputId": "dbbb9afe-a77f-47bd-9cdd-89dbf6ad68c5"
      },
      "source": [
        "#                  patterns 5----0\n",
        "x = 0\n",
        "y = 5\n",
        "for counter1 in range(0,6):\n",
        "  print(y, \"-----\", x)\n",
        "  x = x + 1\n",
        "  y = y - 1"
      ],
      "execution_count": 5,
      "outputs": [
        {
          "output_type": "stream",
          "text": [
            "5 ----- 0\n",
            "4 ----- 1\n",
            "3 ----- 2\n",
            "2 ----- 3\n",
            "1 ----- 4\n",
            "0 ----- 5\n"
          ],
          "name": "stdout"
        }
      ]
    }
  ]
}