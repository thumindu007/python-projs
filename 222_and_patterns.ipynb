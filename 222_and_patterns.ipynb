{
  "nbformat": 4,
  "nbformat_minor": 0,
  "metadata": {
    "colab": {
      "name": "222_and_patterns.ipynb",
      "provenance": [],
      "authorship_tag": "ABX9TyOo/njkfdTfFXcHPRxvicwS",
      "include_colab_link": true
    },
    "kernelspec": {
      "name": "python3",
      "display_name": "Python 3"
    },
    "language_info": {
      "name": "python"
    }
  },
  "cells": [
    {
      "cell_type": "markdown",
      "metadata": {
        "id": "view-in-github",
        "colab_type": "text"
      },
      "source": [
        "<a href=\"https://colab.research.google.com/github/thumindu007/python-projs/blob/main/222_and_patterns.ipynb\" target=\"_parent\"><img src=\"https://colab.research.google.com/assets/colab-badge.svg\" alt=\"Open In Colab\"/></a>"
      ]
    },
    {
      "cell_type": "code",
      "metadata": {
        "id": "u6T-_dOFnviw",
        "colab": {
          "base_uri": "https://localhost:8080/"
        },
        "outputId": "767365c5-7843-4dac-9f53-07e6e20c9cd9"
      },
      "source": [
        "#                  patterns 5----0\n",
        "x = 0\n",
        "y = 5\n",
        "for counter1 in range(0,6):\n",
        "  print(y, \"-----\", x)\n",
        "  x = x + 1\n",
        "  y = y - 1"
      ],
      "execution_count": 53,
      "outputs": [
        {
          "output_type": "stream",
          "text": [
            "5 ----- 0\n",
            "4 ----- 1\n",
            "3 ----- 2\n",
            "2 ----- 3\n",
            "1 ----- 4\n",
            "0 ----- 5\n"
          ],
          "name": "stdout"
        }
      ]
    },
    {
      "cell_type": "code",
      "metadata": {
        "colab": {
          "base_uri": "https://localhost:8080/"
        },
        "id": "Yp5JN3T02dwQ",
        "outputId": "81b5a606-f9b2-490c-aab5-f189635133da"
      },
      "source": [
        "#                 222222222222222222\n",
        "n = 2\n",
        "s = 0\n",
        "times = int(input(\"what is your number\"))\n",
        "for counter1 in range(0,times):\n",
        "  print(n)\n",
        "  s = s + int(n)\n",
        "  n = str(n) + str(2)\n",
        "print(s, \"this is the sum\")"
      ],
      "execution_count": 52,
      "outputs": [
        {
          "output_type": "stream",
          "text": [
            "what is your number5\n",
            "2\n",
            "22\n",
            "222\n",
            "2222\n",
            "22222\n",
            "24690 this is the sum\n"
          ],
          "name": "stdout"
        }
      ]
    }
  ]
}