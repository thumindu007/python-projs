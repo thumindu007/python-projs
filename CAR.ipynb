{
  "nbformat": 4,
  "nbformat_minor": 0,
  "metadata": {
    "colab": {
      "name": "CAR.ipynb",
      "provenance": [],
      "collapsed_sections": [],
      "authorship_tag": "ABX9TyOwNzQKYndG73VhvkN+W2dd",
      "include_colab_link": true
    },
    "kernelspec": {
      "name": "python3",
      "display_name": "Python 3"
    },
    "language_info": {
      "name": "python"
    }
  },
  "cells": [
    {
      "cell_type": "markdown",
      "metadata": {
        "id": "view-in-github",
        "colab_type": "text"
      },
      "source": [
        "<a href=\"https://colab.research.google.com/github/thumindu007/python-projs/blob/main/CAR.ipynb\" target=\"_parent\"><img src=\"https://colab.research.google.com/assets/colab-badge.svg\" alt=\"Open In Colab\"/></a>"
      ]
    },
    {
      "cell_type": "code",
      "metadata": {
        "id": "HU3TvYR-irZw"
      },
      "source": [
        "class Car:\n",
        "  fuel_capacity = 0\n",
        "  max_speeeeeeeeeeeeeed = 0\n",
        "  colour = ''\n",
        "  seats = 5\n",
        "  make = ''\n",
        "  odometer = 0\n",
        "  steering_wheel = 'medium'\n",
        "  def move_forwars(self, distance):\n",
        "    self.odometer = self.odometer + distance\n",
        "  \n",
        "  def interior(self):\n",
        "    print(\"steering wheel\", self.steering_wheel)"
      ],
      "execution_count": 7,
      "outputs": []
    },
    {
      "cell_type": "code",
      "metadata": {
        "colab": {
          "base_uri": "https://localhost:8080/"
        },
        "id": "J4InJm75mqN_",
        "outputId": "43037c61-0d2f-4598-8300-1d4b9d6bddbb"
      },
      "source": [
        "myCar = Car()\n",
        "myCar.colour = 'black'\n",
        "myCar.make = 'Roadster'\n",
        "print(myCar.make)\n",
        "print(myCar.colour)\n",
        "\n",
        "myCar.move_forwars(100)\n",
        "\n",
        "print(myCar.odometer)"
      ],
      "execution_count": 11,
      "outputs": [
        {
          "output_type": "stream",
          "text": [
            "Roadster\n",
            "black\n",
            "100\n"
          ],
          "name": "stdout"
        }
      ]
    },
    {
      "cell_type": "code",
      "metadata": {
        "id": "smU_VThUuFJx"
      },
      "source": [
        "class house:\n",
        "  chairs = 10\n",
        "  age = 30\n",
        "  road = ''\n",
        "  tv = 1\n",
        "  cars = 2"
      ],
      "execution_count": 12,
      "outputs": []
    },
    {
      "cell_type": "code",
      "metadata": {
        "colab": {
          "base_uri": "https://localhost:8080/"
        },
        "id": "XNmkytP-vRJ5",
        "outputId": "15e5d30b-bfb1-4c5a-f20d-82880155b6ec"
      },
      "source": [
        "house = house()\n",
        "house.chairs = 'jupotito drive'\n",
        "print(\"i have \", house.chairs,\"chairs in my house and i live on \", house.road)"
      ],
      "execution_count": 13,
      "outputs": [
        {
          "output_type": "stream",
          "text": [
            "i have  jupotito drive chairs in my house and i live on  \n"
          ],
          "name": "stdout"
        }
      ]
    }
  ]
}