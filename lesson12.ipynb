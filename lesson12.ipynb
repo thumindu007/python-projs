{
  "nbformat": 4,
  "nbformat_minor": 0,
  "metadata": {
    "colab": {
      "name": "lesson12.ipynb",
      "provenance": [],
      "authorship_tag": "ABX9TyMTgwcbQawT8BpF+v1SyKRD",
      "include_colab_link": true
    },
    "kernelspec": {
      "name": "python3",
      "display_name": "Python 3"
    },
    "language_info": {
      "name": "python"
    }
  },
  "cells": [
    {
      "cell_type": "markdown",
      "metadata": {
        "id": "view-in-github",
        "colab_type": "text"
      },
      "source": [
        "<a href=\"https://colab.research.google.com/github/thumindu007/python-projs/blob/main/lesson12.ipynb\" target=\"_parent\"><img src=\"https://colab.research.google.com/assets/colab-badge.svg\" alt=\"Open In Colab\"/></a>"
      ]
    },
    {
      "cell_type": "code",
      "metadata": {
        "id": "_julaCQ1WmcC"
      },
      "source": [
        "\n",
        "\n",
        "\n",
        "\n",
        "\n",
        "def plus(number1, number2):\n",
        "  sum = number1 + number2\n",
        "  return sum\n",
        "\n",
        "def minus(number1, number2):\n",
        "  sum = number1 - number2\n",
        "  return sum\n",
        "\n",
        "def mulliply(number1, number2):\n",
        "  sum = number1 * number2\n",
        "  return sum\n",
        "\n",
        "def divide(number1, number2):\n",
        "  sum = number1 / number2\n",
        "  return sum"
      ],
      "execution_count": null,
      "outputs": []
    }
  ]
}