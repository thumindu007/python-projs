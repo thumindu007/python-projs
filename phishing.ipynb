{
  "nbformat": 4,
  "nbformat_minor": 0,
  "metadata": {
    "colab": {
      "name": "phishing.ipynb",
      "provenance": [],
      "authorship_tag": "ABX9TyOTDxA8VE7EeL32wq22/ddv",
      "include_colab_link": true
    },
    "kernelspec": {
      "name": "python3",
      "display_name": "Python 3"
    },
    "language_info": {
      "name": "python"
    }
  },
  "cells": [
    {
      "cell_type": "markdown",
      "metadata": {
        "id": "view-in-github",
        "colab_type": "text"
      },
      "source": [
        "<a href=\"https://colab.research.google.com/github/thumindu007/python-projs/blob/main/phishing.ipynb\" target=\"_parent\"><img src=\"https://colab.research.google.com/assets/colab-badge.svg\" alt=\"Open In Colab\"/></a>"
      ]
    },
    {
      "cell_type": "code",
      "source": [
        "!pip install -r requirements.txt"
      ],
      "metadata": {
        "colab": {
          "base_uri": "https://localhost:8080/"
        },
        "id": "I68K9GD_8J1l",
        "outputId": "61bbe21b-2d4d-44f0-e4bf-0daa19a0716c"
      },
      "execution_count": null,
      "outputs": [
        {
          "output_type": "stream",
          "name": "stdout",
          "text": [
            "Requirement already satisfied: certifi in /usr/local/lib/python3.7/dist-packages (from -r requirements.txt (line 1)) (2021.10.8)\n",
            "Requirement already satisfied: chardet in /usr/local/lib/python3.7/dist-packages (from -r requirements.txt (line 2)) (3.0.4)\n",
            "Requirement already satisfied: future in /usr/local/lib/python3.7/dist-packages (from -r requirements.txt (line 3)) (0.16.0)\n",
            "Requirement already satisfied: idna in /usr/local/lib/python3.7/dist-packages (from -r requirements.txt (line 4)) (2.10)\n",
            "Requirement already satisfied: python-dateutil in /usr/local/lib/python3.7/dist-packages (from -r requirements.txt (line 5)) (2.8.2)\n",
            "Collecting python-whois\n",
            "  Downloading python-whois-0.7.3.tar.gz (91 kB)\n",
            "\u001b[K     |████████████████████████████████| 91 kB 9.2 MB/s \n",
            "\u001b[?25hRequirement already satisfied: requests in /usr/local/lib/python3.7/dist-packages (from -r requirements.txt (line 7)) (2.23.0)\n",
            "Requirement already satisfied: six in /usr/local/lib/python3.7/dist-packages (from -r requirements.txt (line 8)) (1.15.0)\n",
            "Requirement already satisfied: urllib3 in /usr/local/lib/python3.7/dist-packages (from -r requirements.txt (line 9)) (1.24.3)\n",
            "Building wheels for collected packages: python-whois\n",
            "  Building wheel for python-whois (setup.py) ... \u001b[?25l\u001b[?25hdone\n",
            "  Created wheel for python-whois: filename=python_whois-0.7.3-py3-none-any.whl size=87720 sha256=04415994b29dc71b0ca0c1bd624a1e6684210bafb4eb1b27bb47af4a33e4cb12\n",
            "  Stored in directory: /root/.cache/pip/wheels/11/05/f7/895ce5a73665f77c8274a7d55e34fb3e6b4abbb9a7637e215b\n",
            "Successfully built python-whois\n",
            "Installing collected packages: python-whois\n",
            "Successfully installed python-whois-0.7.3\n"
          ]
        }
      ]
    },
    {
      "cell_type": "code",
      "source": [
        "from checks import checkAddressType, checkUrlLength, checkShortening, checkAtSign, checkPortNumber, checkDomainAge, checkRedirects, checkDomainRegistration\n",
        "from mlforkids import classify\n",
        "\n",
        "MLFORKIDS_API_KEY = None\n",
        "\n",
        "def checkUrl(addr):\n",
        "    address_type = checkAddressType(addr)\n",
        "    url_length = checkUrlLength(addr)\n",
        "    shortening = checkShortening(addr)\n",
        "    includes_at = checkAtSign(addr)\n",
        "    port_number = checkPortNumber(addr)\n",
        "    domain_age = checkDomainAge(addr)\n",
        "    redirects = checkRedirects(addr)\n",
        "    domain_reg = checkDomainRegistration(addr)\n",
        "\n",
        "    print (addr)\n",
        "    print (\"   address type :\", address_type)\n",
        "    print (\"   url length   :\", url_length)\n",
        "    print (\"   shortening   :\", shortening)\n",
        "    print (\"   includes @   :\", includes_at)\n",
        "    print (\"   port number  :\", port_number)\n",
        "    print (\"   domain age   :\", domain_age)\n",
        "    print (\"   redirects    :\", redirects)\n",
        "    print (\"   domain reg   :\", domain_reg)\n",
        "\n",
        "    if MLFORKIDS_API_KEY is not None:\n",
        "        addr_data = [ address_type, url_length, shortening, includes_at, port_number, domain_age, redirects, domain_reg ]\n",
        "        prediction = classify(MLFORKIDS_API_KEY, addr_data)\n",
        "        print (\"Prediction: %s is a %s link (%d%% confidence)\" % (addr, prediction[\"class_name\"], prediction[\"confidence\"]))\n",
        "\n",
        "    print (\"\")\n",
        "\n",
        "\n",
        "checkUrl(\"https://machinelearningforkids.co.uk/help\")\n",
        "checkUrl(\"https://www.bbc.co.uk\")\n",
        "\n",
        "checkUrl(\"https://en.wikipedia.org/wiki/Machine_learning\")\n",
        "checkUrl(\"https://91.198.174.192/wiki/Machine_learning\")\n",
        "\n",
        "checkUrl(\"https://mickey@bit.ly/35Jnlf8\")\n",
        "\n",
        "checkUrl(\"https://login.bankofamerica.com@www.josueizagirre.com/wp-content/cache/login.bankofamerica.com.uplogad/update.html\")\n",
        "checkUrl(\"http://flinxdeicdccc.com/2612aa892d962d6f8056b195ca6e550d/tnFBsV27sc3kIMJg0Z8snqenramMHIXz.php?country=US-United%20States&lang=en\")\n"
      ],
      "metadata": {
        "colab": {
          "base_uri": "https://localhost:8080/"
        },
        "id": "j0QQqoTl_8CY",
        "outputId": "67c57505-945d-4a0b-82a0-b52d6c68b90d"
      },
      "execution_count": null,
      "outputs": [
        {
          "output_type": "stream",
          "name": "stdout",
          "text": [
            "https://machinelearningforkids.co.uk/help\n",
            "   address type : DNS name\n",
            "   url length   : <54 chars\n",
            "   shortening   : no\n",
            "   includes @   : no\n",
            "   port number  : standard\n",
            "   domain age   : older\n",
            "   redirects    : <= 4\n",
            "   domain reg   : expiring\n",
            "\n",
            "https://www.bbc.co.uk\n",
            "   address type : DNS name\n",
            "   url length   : <54 chars\n",
            "   shortening   : no\n",
            "   includes @   : no\n",
            "   port number  : standard\n",
            "   domain age   : older\n",
            "   redirects    : <= 4\n",
            "   domain reg   : not\n",
            "\n",
            "https://en.wikipedia.org/wiki/Machine_learning\n",
            "   address type : DNS name\n",
            "   url length   : <54 chars\n",
            "   shortening   : no\n",
            "   includes @   : no\n",
            "   port number  : standard\n",
            "   domain age   : older\n",
            "   redirects    : <= 4\n",
            "   domain reg   : expiring\n",
            "\n",
            "https://91.198.174.192/wiki/Machine_learning\n",
            "   address type : IP addr\n",
            "   url length   : <54 chars\n",
            "   shortening   : no\n",
            "   includes @   : no\n",
            "   port number  : standard\n",
            "   domain age   : < 6 month\n",
            "   redirects    : <= 4\n",
            "   domain reg   : expiring\n",
            "\n",
            "https://mickey@bit.ly/35Jnlf8\n",
            "   address type : DNS name\n",
            "   url length   : <54 chars\n",
            "   shortening   : yes\n",
            "   includes @   : yes\n",
            "   port number  : standard\n",
            "   domain age   : < 6 month\n",
            "   redirects    : <= 4\n",
            "   domain reg   : expiring\n",
            "\n",
            "https://login.bankofamerica.com@www.josueizagirre.com/wp-content/cache/login.bankofamerica.com.uplogad/update.html\n",
            "   address type : DNS name\n",
            "   url length   : >75 chars\n",
            "   shortening   : no\n",
            "   includes @   : yes\n",
            "   port number  : standard\n",
            "   domain age   : older\n",
            "   redirects    : <= 4\n",
            "   domain reg   : expiring\n",
            "\n",
            "http://flinxdeicdccc.com/2612aa892d962d6f8056b195ca6e550d/tnFBsV27sc3kIMJg0Z8snqenramMHIXz.php?country=US-United%20States&lang=en\n",
            "   address type : DNS name\n",
            "   url length   : >75 chars\n",
            "   shortening   : no\n",
            "   includes @   : no\n",
            "   port number  : standard\n",
            "   domain age   : < 6 month\n",
            "   redirects    : > 4\n",
            "   domain reg   : expiring\n",
            "\n"
          ]
        }
      ]
    }
  ]
}