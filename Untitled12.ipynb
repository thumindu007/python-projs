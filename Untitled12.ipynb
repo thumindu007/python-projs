{
  "nbformat": 4,
  "nbformat_minor": 0,
  "metadata": {
    "colab": {
      "name": "Untitled12.ipynb",
      "provenance": [],
      "authorship_tag": "ABX9TyPvCAdJlW5RpQJo60NFCOkm",
      "include_colab_link": true
    },
    "kernelspec": {
      "name": "python3",
      "display_name": "Python 3"
    },
    "language_info": {
      "name": "python"
    }
  },
  "cells": [
    {
      "cell_type": "markdown",
      "metadata": {
        "id": "view-in-github",
        "colab_type": "text"
      },
      "source": [
        "<a href=\"https://colab.research.google.com/github/thumindu007/python-projs/blob/main/Untitled12.ipynb\" target=\"_parent\"><img src=\"https://colab.research.google.com/assets/colab-badge.svg\" alt=\"Open In Colab\"/></a>"
      ]
    },
    {
      "cell_type": "code",
      "execution_count": 3,
      "metadata": {
        "colab": {
          "base_uri": "https://localhost:8080/"
        },
        "id": "IWnb_cuQEQTh",
        "outputId": "e95c7cb4-0533-49a6-dfb7-3f45845b8083"
      },
      "outputs": [
        {
          "output_type": "stream",
          "name": "stdout",
          "text": [
            "what is your question? If you want to exit, type 'no': Can I eat this bird\n",
            "There is around 10,000 species of birds around the world. Some are, Toucan, King Fisher, Swift, Parrots, HummingBird, Columbidae and Hornbill. The fastest bird is the Peregrine Falcon. Eagles are the most powerful.\n",
            "result: 'species' with 20% confidence\n",
            "what is your question? If you want to exit, type 'no': no\n",
            "The loop has been broken\n"
          ]
        }
      ],
      "source": [
        "import requests\n",
        "\n",
        "# This function will pass your text to the machine learning model\n",
        "# and return the top result with the highest confidence\n",
        "def classify(text):\n",
        "    key = \"7b36eb10-a384-11ec-94b3-3bfbf880c376fde749cf-4616-40f9-8d22-7433eea93a6b\"\n",
        "    url = \"https://machinelearningforkids.co.uk/api/scratch/\"+ key + \"/classify\"\n",
        "\n",
        "    response = requests.get(url, params={ \"data\" : text })\n",
        "\n",
        "    if response.ok:\n",
        "        responseData = response.json()\n",
        "        topMatch = responseData[0]\n",
        "        return topMatch\n",
        "    else:\n",
        "        response.raise_for_status()\n",
        "\n",
        "def answer(label):\n",
        "  if label == 'food':\n",
        "    print(\"Most birds eat a balanced diet; 90% eat insects and nectar, seed or fruit. People feeding birds the wrong food changes the balance of their diet and can negatively impact their health.\")\n",
        "  if label == 'lifespan':\n",
        "    print(\"Birds can live between four and 100 years, depending on the species, and what they eat\")\n",
        "  if label == 'species':\n",
        "    print(\"There is around 10,000 species of birds around the world. Some are, Toucan, King Fisher, Swift, Parrots, HummingBird, Columbidae and Hornbill. The fastest bird is the Peregrine Falcon. Eagles are the most powerful.\")\n",
        "  if label == 'country':\n",
        "    print(\"Country by country, the richest territories for avian diversity are Colombia, Peru, Brazil, Ecuador and Indonesia (each with more than 1,500 species), \")\n",
        "    print(\"followed by Bolivia, Venezuela, China, India, the Democratic Republic of Congo, Mexico, Tanzania, Kenya and Argentina\")\n",
        "  if label == 'size':\n",
        "    print(\"There are five basic sizes, from very small (3 to 5 inches) to very large (32 to 72 inches). After you chose a size you will see a list of birds that fall into that size range.\")\n",
        "\n",
        "while True:\n",
        "  # CHANGE THIS to something you want your machine learning model to classify\n",
        "  i = input(\"what is your question? If you want to exit, type 'no': \")\n",
        "  if i == 'no':\n",
        "    break\n",
        "  demo = classify(i)\n",
        "  \n",
        "  label = demo[\"class_name\"]\n",
        "  confidence = demo[\"confidence\"]\n",
        "  answer(label)\n",
        "\n",
        "  # CHANGE THIS to do something different with the result\n",
        "  print (\"result: '%s' with %d%% confidence\" % (label, confidence))\n",
        "print(\"The loop has been broken\")"
      ]
    }
  ]
}