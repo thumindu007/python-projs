{
  "nbformat": 4,
  "nbformat_minor": 0,
  "metadata": {
    "colab": {
      "name": "Untitled5.ipynb",
      "provenance": [],
      "collapsed_sections": [],
      "authorship_tag": "ABX9TyNUtnhv75nyvCYzuNdJ0brv",
      "include_colab_link": true
    },
    "kernelspec": {
      "name": "python3",
      "display_name": "Python 3"
    },
    "language_info": {
      "name": "python"
    }
  },
  "cells": [
    {
      "cell_type": "markdown",
      "metadata": {
        "id": "view-in-github",
        "colab_type": "text"
      },
      "source": [
        "<a href=\"https://colab.research.google.com/github/thumindu007/python-projs/blob/main/Untitled5.ipynb\" target=\"_parent\"><img src=\"https://colab.research.google.com/assets/colab-badge.svg\" alt=\"Open In Colab\"/></a>"
      ]
    },
    {
      "cell_type": "code",
      "metadata": {
        "colab": {
          "base_uri": "https://localhost:8080/"
        },
        "id": "vzh1AoKygMoT",
        "outputId": "d04636dc-af0b-449c-adbf-cc6c4f88d57e"
      },
      "source": [
        "import time\n",
        "stop= 0 \n",
        "username = input(\"what is username \")\n",
        "while True:\n",
        "  if stop > 3:\n",
        "    print(\"You have too many incorrect tries and you have to wait a day \")\n",
        "    time.sleep(5)\n",
        "  if username == (\"python\"):\n",
        "    print(\"login successful\")\n",
        "    break\n",
        "  else: \n",
        "    print(\"Error username wrong \")\n",
        "    stop = stop + 86400000\n",
        "\n",
        "Password = (\"coding\")\n",
        "Pass = input(\"what is the password? \")\n",
        "if Pass == Password:\n",
        "  print(\"you have the correct password. You may continue. \")\n",
        "\n",
        "answer = input(\"do you want to encode or decode? \")\n",
        "\n",
        "letters = [\"a\", \"b\", \"c\", \"d\", \"e\", \"f\", \"g\", \"h\", \"i\", \"j\", \"k\", \"l\", \"m\", \"n\", \"o\", \"p\", \"q\", \"r\", \"s\", \"t\", \"u\", \"v\", \"w\", \"x\", \"y\", \"z\",]\n",
        "\n",
        "encoded_letters = [\"1\", \"2\", \"3\", \"4\", \"5\", \"6\", \"7\", \"8\", \"9\", \"0\", \"!\", \"@\", \"#\", \"$\", \"%\", \"^\", \"&\", \"(\", \")\", \"-\", \"[\", \"_\", \"{\", \"=\", \"+\", \"|\",]\n",
        "encoded = []\n",
        "tolook = 0\n",
        "word = input(\"what is the word you want to encode? \")\n",
        "times = len(word)\n",
        "if answer == (\"encode\"):\n",
        "\n",
        "  for counter in range(0,times):\n",
        "\n",
        "    letter = word[tolook]\n",
        "    print(letter)\n",
        "    position = letters.index(letter)\n",
        "    encode = encoded_letters[position]\n",
        "    encoded.append(encode)\n",
        "    tolook = tolook + 1\n",
        "\n",
        "print(encoded)\n",
        "\n",
        "\n"
      ],
      "execution_count": null,
      "outputs": [
        {
          "output_type": "stream",
          "text": [
            "what is username python\n",
            "login successful\n",
            "what is the password? coding\n",
            "you have the correct password. You may continue. \n",
            "do you want to encode or decode? encode\n",
            "what is the word you want to encode? and\n",
            "a\n",
            "n\n",
            "d\n",
            "['1', '$', '4']\n"
          ],
          "name": "stdout"
        }
      ]
    }
  ]
}