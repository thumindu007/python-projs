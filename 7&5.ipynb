{
  "nbformat": 4,
  "nbformat_minor": 0,
  "metadata": {
    "colab": {
      "name": "7&5.ipynb",
      "provenance": [],
      "authorship_tag": "ABX9TyMJftGS7YCAwIKk/eUUqtAk",
      "include_colab_link": true
    },
    "kernelspec": {
      "name": "python3",
      "display_name": "Python 3"
    },
    "language_info": {
      "name": "python"
    }
  },
  "cells": [
    {
      "cell_type": "markdown",
      "metadata": {
        "id": "view-in-github",
        "colab_type": "text"
      },
      "source": [
        "<a href=\"https://colab.research.google.com/github/thumindu007/python-projs/blob/main/7%265.ipynb\" target=\"_parent\"><img src=\"https://colab.research.google.com/assets/colab-badge.svg\" alt=\"Open In Colab\"/></a>"
      ]
    },
    {
      "cell_type": "code",
      "execution_count": null,
      "metadata": {
        "colab": {
          "base_uri": "https://localhost:8080/",
          "height": 219
        },
        "id": "dzpJaTb6Us2H",
        "outputId": "0ee1acae-4ede-4f0e-8b33-8167e4b382cf"
      },
      "outputs": [
        {
          "output_type": "error",
          "ename": "NameError",
          "evalue": "ignored",
          "traceback": [
            "\u001b[0;31m---------------------------------------------------------------------------\u001b[0m",
            "\u001b[0;31mNameError\u001b[0m                                 Traceback (most recent call last)",
            "\u001b[0;32m<ipython-input-9-d9e7633365c7>\u001b[0m in \u001b[0;36m<module>\u001b[0;34m()\u001b[0m\n\u001b[1;32m      9\u001b[0m   \u001b[0mlast_digit\u001b[0m \u001b[0;34m=\u001b[0m \u001b[0mint\u001b[0m\u001b[0;34m(\u001b[0m\u001b[0mlast_digit_str\u001b[0m\u001b[0;34m)\u001b[0m\u001b[0;34m\u001b[0m\u001b[0;34m\u001b[0m\u001b[0m\n\u001b[1;32m     10\u001b[0m   \u001b[0mlast_digit\u001b[0m \u001b[0;34m=\u001b[0m \u001b[0mlast_digit\u001b[0m \u001b[0;34m/\u001b[0m \u001b[0;36m7\u001b[0m\u001b[0;34m\u001b[0m\u001b[0;34m\u001b[0m\u001b[0m\n\u001b[0;32m---> 11\u001b[0;31m   \u001b[0;32mif\u001b[0m \u001b[0mis_integer\u001b[0m\u001b[0;34m(\u001b[0m\u001b[0mlast_digit\u001b[0m\u001b[0;34m)\u001b[0m \u001b[0;34m==\u001b[0m \u001b[0;32mFalse\u001b[0m\u001b[0;34m:\u001b[0m\u001b[0;34m\u001b[0m\u001b[0;34m\u001b[0m\u001b[0m\n\u001b[0m\u001b[1;32m     12\u001b[0m     \u001b[0mprint\u001b[0m\u001b[0;34m(\u001b[0m\u001b[0;34m)\u001b[0m\u001b[0;34m\u001b[0m\u001b[0;34m\u001b[0m\u001b[0m\n",
            "\u001b[0;31mNameError\u001b[0m: name 'is_integer' is not defined"
          ]
        }
      ],
      "source": [
        "import math\n",
        "numbers = []\n",
        "for i in range(2000, 3201):\n",
        "  numbers.append(i)\n",
        "#  still working on this\n",
        "for i in range(2000, 3201):\n",
        "  num_str = repr(i)\n",
        "  last_digit_str = num_str[-1]\n",
        "  last_digit = int(last_digit_str)\n",
        "  last_digit = last_digit / 7\n",
        "  if is_integer(last_digit, int) == False:\n",
        "    print()"
      ]
    },
    {
      "cell_type": "code",
      "source": [
        "#    number 3 *finished*\n",
        "lst = []\n",
        "d = input(\"number: \")\n",
        "d = d.split()\n",
        "c = 50\n",
        "h = 30\n",
        "\n",
        "for i in d:\n",
        "  q = float((2 * c * int(i)) / h) ** 0.5\n",
        "  q = round(q)\n",
        "  lst.append(q)\n",
        "\n",
        "converted_list = [str(i) for i in lst]\n",
        "joined_string = \",\".join(converted_list)\n",
        "\n",
        "print(joined_string)"
      ],
      "metadata": {
        "id": "Y9oOyM2peal0",
        "colab": {
          "base_uri": "https://localhost:8080/"
        },
        "outputId": "ec26ec79-45f1-4d0d-884e-71b55998da68"
      },
      "execution_count": null,
      "outputs": [
        {
          "output_type": "stream",
          "name": "stdout",
          "text": [
            "number: 100 150 180\n",
            "18,22,24\n"
          ]
        }
      ]
    }
  ]
}