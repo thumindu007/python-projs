{
  "nbformat": 4,
  "nbformat_minor": 0,
  "metadata": {
    "colab": {
      "name": "titanic.ipynb",
      "provenance": [],
      "collapsed_sections": [],
      "authorship_tag": "ABX9TyND5fxbX+6N3YPgObcQIJT5",
      "include_colab_link": true
    },
    "kernelspec": {
      "name": "python3",
      "display_name": "Python 3"
    },
    "language_info": {
      "name": "python"
    }
  },
  "cells": [
    {
      "cell_type": "markdown",
      "metadata": {
        "id": "view-in-github",
        "colab_type": "text"
      },
      "source": [
        "<a href=\"https://colab.research.google.com/github/thumindu007/python-projs/blob/main/titanic.ipynb\" target=\"_parent\"><img src=\"https://colab.research.google.com/assets/colab-badge.svg\" alt=\"Open In Colab\"/></a>"
      ]
    },
    {
      "cell_type": "code",
      "execution_count": 6,
      "metadata": {
        "colab": {
          "base_uri": "https://localhost:8080/"
        },
        "id": "SFC4MN9b6vGP",
        "outputId": "2f950e82-d916-48a2-84da-566d3ef717ba"
      },
      "outputs": [
        {
          "name": "stdout",
          "output_type": "stream",
          "text": [
            "What is your ticket class?  2\n",
            "Is your gender male or female or nether? female\n",
            "what is your age? 6\n",
            "How much siblings do you have? 0\n",
            "How much parents do you have on board? 1\n",
            "what is your ticket fair? 33\n",
            "Are you embarking in 'Cherbourg', 'Queentwn' or 'Southampt'. type it in exactly how its said. Southampt\n",
            "result: 'survived' with 100% confidence\n",
            "Do you want to exit? no\n",
            "What is your ticket class?  3\n",
            "Is your gender male or female or nether? male\n",
            "what is your age? 2\n",
            "How much siblings do you have? 3\n",
            "How much parents do you have on board? 1\n",
            "what is your ticket fair? 33\n",
            "Are you embarking in 'Cherbourg', 'Queentwn' or 'Southampt'. type it in exactly how its said. Southampt\n",
            "result: 'did_not_survive' with 100% confidence\n",
            "Do you want to exit? yes\n"
          ]
        }
      ],
      "source": [
        "import requests\n",
        "\n",
        "# This function will pass your numbers to the machine learning model\n",
        "# and return the top result with the highest confidence\n",
        "def classify(numbers):\n",
        "    key = \"5854f330-9303-11ec-b4c2-955b34e4e024579f69ed-ec4d-42f3-a541-316073a048dd\"\n",
        "    url = \"https://machinelearningforkids.co.uk/api/scratch/\"+ key + \"/classify\"\n",
        "\n",
        "    response = requests.post(url, json={ \"data\" : numbers })\n",
        "\n",
        "    if response.ok:\n",
        "        responseData = response.json()\n",
        "        topMatch = responseData[0]\n",
        "        return topMatch\n",
        "    else:\n",
        "        response.raise_for_status()\n",
        "\n",
        "t = 'no'\n",
        "while t == 'no':\n",
        "  data1 = input(\"What is your ticket class?  \")\n",
        "  data2 = input(\"Is your gender male or female or nether? \") #gender\n",
        "  data3 = input(\"what is your age? \") #ages\n",
        "  data4 = input(\"How much siblings do you have? \")  # siblings\n",
        "  data5 = input(\"How much parents do you have on board? \") # parent\n",
        "  data6 = input(\"what is your ticket fair? \") # ticket fair\n",
        "  data7 = input(\"Are you embarking in 'Cherbourg', 'Queentwn' or 'Southampt'. type it in exactly how its said. \")\n",
        "\n",
        "  demo = classify([ data1, data2, data3, data4, data5, data6, data7  ])\n",
        "\n",
        "  label = demo[\"class_name\"]\n",
        "  confidence = demo[\"confidence\"]\n",
        "\n",
        "  print (\"result: '%s' with %d%% confidence\" % (label, confidence))\n",
        "  t = input(\"Do you want to exit? \")"
      ]
    }
  ]
}