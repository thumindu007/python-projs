{
  "nbformat": 4,
  "nbformat_minor": 0,
  "metadata": {
    "colab": {
      "name": "not-scuffed-this-time.ipynb",
      "provenance": [],
      "authorship_tag": "ABX9TyM1a3lYiz8irJULn7wH/fiQ",
      "include_colab_link": true
    },
    "kernelspec": {
      "name": "python3",
      "display_name": "Python 3"
    },
    "language_info": {
      "name": "python"
    }
  },
  "cells": [
    {
      "cell_type": "markdown",
      "metadata": {
        "id": "view-in-github",
        "colab_type": "text"
      },
      "source": [
        "<a href=\"https://colab.research.google.com/github/thumindu007/python-projs/blob/main/not_scuffed_this_time.ipynb\" target=\"_parent\"><img src=\"https://colab.research.google.com/assets/colab-badge.svg\" alt=\"Open In Colab\"/></a>"
      ]
    },
    {
      "cell_type": "code",
      "execution_count": 3,
      "metadata": {
        "colab": {
          "base_uri": "https://localhost:8080/"
        },
        "id": "5kpO6onRvIqB",
        "outputId": "bd318815-a204-41c2-b144-842894e718c2"
      },
      "outputs": [
        {
          "output_type": "stream",
          "name": "stdout",
          "text": [
            "How much R&D 333333\n",
            "How much Admin 333311\n",
            "How much Marketing Spend 32445\n",
            "Where do you choose to set up ether 'New York', 'Califor', or 'Florida' New York\n",
            "result: 'Profit' with 100% confidence\n",
            "Do you want to exit, Type 'yes'yes\n",
            "the loop has been exitted\n"
          ]
        }
      ],
      "source": [
        "import requests\n",
        "\n",
        "# This function will pass your numbers to the machine learning model\n",
        "# and return the top result with the highest confidence\n",
        "def classify(numbers):\n",
        "    key = \"3d3bbce0-ab19-11ec-9b13-899921f3b933bbbcb663-ba87-4580-b63e-cad6396b94a0\"\n",
        "    url = \"https://machinelearningforkids.co.uk/api/scratch/\"+ key + \"/classify\"\n",
        "\n",
        "    response = requests.post(url, json={ \"data\" : numbers })\n",
        "\n",
        "    if response.ok:\n",
        "        responseData = response.json()\n",
        "        topMatch = responseData[0]\n",
        "        return topMatch\n",
        "    else:\n",
        "        response.raise_for_status()\n",
        "\n",
        "while True:\n",
        "  # CHANGE THIS to something you want your machine learning model to classify\n",
        "  data1 = int(input(\"How much R&D \"))\n",
        "  data2 = int(input(\"How much Admin \"))\n",
        "  data3 = int(input(\"How much Marketing Spend \"))\n",
        "  data4 = input(\"Where do you choose to set up ether 'New York', 'Califor', or 'Florida' \")\n",
        "\n",
        "  demo = classify([ data1, data2, data3, data4  ])\n",
        "\n",
        "  label = demo[\"class_name\"]\n",
        "  confidence = demo[\"confidence\"]\n",
        "\n",
        "\n",
        "  # CHANGE THIS to do something different with the result\n",
        "  print(\"result: '%s' with %d%% confidence\" % (label, confidence))\n",
        "  e = input(\"Do you want to exit, Type 'yes' \")\n",
        "  if e == 'yes':\n",
        "    break\n",
        "print(\"the loop has been25 exitted \")"
      ]
    }
  ]
}