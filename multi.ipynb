{
  "nbformat": 4,
  "nbformat_minor": 0,
  "metadata": {
    "colab": {
      "name": "multi.ipynb",
      "provenance": [],
      "authorship_tag": "ABX9TyNt0lv2odKiw954DthyERae",
      "include_colab_link": true
    },
    "kernelspec": {
      "name": "python3",
      "display_name": "Python 3"
    },
    "language_info": {
      "name": "python"
    }
  },
  "cells": [
    {
      "cell_type": "markdown",
      "metadata": {
        "id": "view-in-github",
        "colab_type": "text"
      },
      "source": [
        "<a href=\"https://colab.research.google.com/github/thumindu007/python-projs/blob/main/multi.ipynb\" target=\"_parent\"><img src=\"https://colab.research.google.com/assets/colab-badge.svg\" alt=\"Open In Colab\"/></a>"
      ]
    },
    {
      "cell_type": "code",
      "metadata": {
        "colab": {
          "base_uri": "https://localhost:8080/"
        },
        "id": "lpZ-NacR8GGG",
        "outputId": "a8cd3bfe-5757-4ecc-fe85-b0c02f0caa8c"
      },
      "source": [
        "def multi(numberOfTimes, multiplier,):\n",
        "  count = 1\n",
        "  for counter in range(0,numberOfTimes):\n",
        "    product = count * multiplier\n",
        "    print(multiplier, \"x\", count, \"=\", product)\n",
        "    count = count + 1\n",
        "  return multi\n",
        "while True:\n",
        "  multiplier = int(input(\"what do you want to multiply?\"))\n",
        "  numberOfTimes = int(input(\"how many lines of times tables do you want?\"))\n",
        "  multi(numberOfTimes,multiplier)\n",
        "  getout = input(\"do you want to stop the program?type 'yes' or 'no'.\")\n",
        "  if getout == 'yes':\n",
        "    break"
      ],
      "execution_count": 11,
      "outputs": [
        {
          "output_type": "stream",
          "text": [
            "what do you want to multiply?10\n",
            "how many lines of times tables do you want?12\n",
            "10 x 1 = 10\n",
            "10 x 2 = 20\n",
            "10 x 3 = 30\n",
            "10 x 4 = 40\n",
            "10 x 5 = 50\n",
            "10 x 6 = 60\n",
            "10 x 7 = 70\n",
            "10 x 8 = 80\n",
            "10 x 9 = 90\n",
            "10 x 10 = 100\n",
            "10 x 11 = 110\n",
            "10 x 12 = 120\n",
            "do you want to stop the program?type 'yes' or 'no'.no\n",
            "what do you want to multiply?3\n",
            "how many lines of times tables do you want?3\n",
            "3 x 1 = 3\n",
            "3 x 2 = 6\n",
            "3 x 3 = 9\n",
            "do you want to stop the program?type 'yes' or 'no'.yes\n"
          ],
          "name": "stdout"
        }
      ]
    }
  ]
}