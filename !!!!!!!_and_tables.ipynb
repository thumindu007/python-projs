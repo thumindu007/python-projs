{
  "nbformat": 4,
  "nbformat_minor": 0,
  "metadata": {
    "colab": {
      "name": "!!!!!!!_and_tables.ipynb",
      "provenance": [],
      "collapsed_sections": [],
      "authorship_tag": "ABX9TyPE1f5Rv3wfJ5yB7Mz56sTi",
      "include_colab_link": true
    },
    "kernelspec": {
      "name": "python3",
      "display_name": "Python 3"
    },
    "language_info": {
      "name": "python"
    }
  },
  "cells": [
    {
      "cell_type": "markdown",
      "metadata": {
        "id": "view-in-github",
        "colab_type": "text"
      },
      "source": [
        "<a href=\"https://colab.research.google.com/github/thumindu007/python-projs/blob/main/!!!!!!!_and_tables.ipynb\" target=\"_parent\"><img src=\"https://colab.research.google.com/assets/colab-badge.svg\" alt=\"Open In Colab\"/></a>"
      ]
    },
    {
      "cell_type": "code",
      "metadata": {
        "colab": {
          "base_uri": "https://localhost:8080/"
        },
        "id": "hoDVPGebj9be",
        "outputId": "033ed934-4c54-49d6-bdb0-83a8c3a8bbf5"
      },
      "source": [
        "n = int(input(\"what is the number you want to find the factorial of? \"))\n",
        "x = n\n",
        "factorial = n\n",
        "while x > 1: \n",
        "  x = x - 1\n",
        "  factorial = factorial * x\n",
        "print(factorial)"
      ],
      "execution_count": null,
      "outputs": [
        {
          "output_type": "stream",
          "text": [
            "what is the number you want to find the factorial of?9\n",
            "362880\n"
          ],
          "name": "stdout"
        }
      ]
    },
    {
      "cell_type": "code",
      "metadata": {
        "colab": {
          "base_uri": "https://localhost:8080/"
        },
        "id": "fFkp0UFGaNhV",
        "outputId": "a41f2055-d9a4-4495-86ca-1729ee0eb437"
      },
      "source": [
        "multi = int(input(\"what is the number you want to find the times table? \"))\n",
        "n = 1\n",
        "for counter in range(0,12):\n",
        "  sum = n * multi\n",
        "  print(n ,\"*\", multi ,\"=\", sum)\n",
        "  n = n + 1"
      ],
      "execution_count": 6,
      "outputs": [
        {
          "output_type": "stream",
          "text": [
            "what is the number you want to find the times table12\n",
            "1 * 12 = 12\n",
            "2 * 12 = 24\n",
            "3 * 12 = 36\n",
            "4 * 12 = 48\n",
            "5 * 12 = 60\n",
            "6 * 12 = 72\n",
            "7 * 12 = 84\n",
            "8 * 12 = 96\n",
            "9 * 12 = 108\n",
            "10 * 12 = 120\n",
            "11 * 12 = 132\n",
            "12 * 12 = 144\n"
          ],
          "name": "stdout"
        }
      ]
    }
  ]
}