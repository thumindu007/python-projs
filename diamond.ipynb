{
  "nbformat": 4,
  "nbformat_minor": 0,
  "metadata": {
    "colab": {
      "name": "diamond.ipynb",
      "provenance": [],
      "authorship_tag": "ABX9TyPG2LRDigVZ68MXGyOPzlgd",
      "include_colab_link": true
    },
    "kernelspec": {
      "name": "python3",
      "display_name": "Python 3"
    },
    "language_info": {
      "name": "python"
    }
  },
  "cells": [
    {
      "cell_type": "markdown",
      "metadata": {
        "id": "view-in-github",
        "colab_type": "text"
      },
      "source": [
        "<a href=\"https://colab.research.google.com/github/thumindu007/python-projs/blob/main/diamond.ipynb\" target=\"_parent\"><img src=\"https://colab.research.google.com/assets/colab-badge.svg\" alt=\"Open In Colab\"/></a>"
      ]
    },
    {
      "cell_type": "code",
      "metadata": {
        "colab": {
          "base_uri": "https://localhost:8080/"
        },
        "id": "C7MOVGVVOzct",
        "outputId": "8a4cbfb4-922d-4d50-f89e-a0b77ed65894"
      },
      "source": [
        "!pip3 install ColabTurtle"
      ],
      "execution_count": 2,
      "outputs": [
        {
          "output_type": "stream",
          "name": "stdout",
          "text": [
            "Collecting ColabTurtle\n",
            "  Downloading ColabTurtle-2.1.0.tar.gz (6.8 kB)\n",
            "Building wheels for collected packages: ColabTurtle\n",
            "  Building wheel for ColabTurtle (setup.py) ... \u001b[?25l\u001b[?25hdone\n",
            "  Created wheel for ColabTurtle: filename=ColabTurtle-2.1.0-py3-none-any.whl size=7655 sha256=6bf88234ee2c736378f8e40ef7093677bea64c701ac1c3e89fc9d7ec9b434a40\n",
            "  Stored in directory: /root/.cache/pip/wheels/0d/ab/65/cc4478508751448dfb4ecb20a6533082855c227dfce8c13902\n",
            "Successfully built ColabTurtle\n",
            "Installing collected packages: ColabTurtle\n",
            "Successfully installed ColabTurtle-2.1.0\n"
          ]
        }
      ]
    },
    {
      "cell_type": "code",
      "metadata": {
        "colab": {
          "base_uri": "https://localhost:8080/",
          "height": 521
        },
        "id": "p66a3wF8PQhV",
        "outputId": "44a78449-fa4b-4d84-c72c-5d3105279081"
      },
      "source": [
        "from ColabTurtle.Turtle import *\n",
        "initializeTurtle()\n",
        "speed(13)\n",
        "penup()\n",
        "goto(200,200)\n",
        "pendown()\n",
        "\n",
        "right(45)\n",
        "forward(50)\n",
        "face(0)\n",
        "forward(131)\n",
        "right(45)\n",
        "forward(50)\n",
        "right(135)\n",
        "forward(199)                                                               #360 , 300\n",
        "right(180)\n",
        "forward(35)\n",
        "left(90)\n",
        "\n",
        "def lines():\n",
        "  forward(36)\n",
        "  right(140)\n",
        "  forward(48)\n",
        "  left(100)\n",
        "  forward(48)\n",
        "  right(135)\n",
        "  forward(36)\n",
        "  face(270)\n",
        "\n",
        "\n",
        "\n",
        "\n",
        "lines()\n",
        "\n",
        "lines()\n",
        "\n",
        "\n",
        "face(180)\n",
        "backward(32)\n",
        "i = 200\n",
        "\n",
        "for counter in range(1,7):\n",
        "  goto(310,350)\n",
        "  goto(i,200)\n",
        "  i = i + 34\n",
        "\n",
        "hideturtle()"
      ],
      "execution_count": 42,
      "outputs": [
        {
          "output_type": "display_data",
          "data": {
            "text/html": [
              "\n",
              "      <svg width=\"800\" height=\"500\">\n",
              "        <rect width=\"100%\" height=\"100%\" fill=\"black\"/>\n",
              "        <line x1=\"200\" y1=\"200\" x2=\"235.355\" y2=\"164.645\" stroke-linecap=\"round\" style=\"stroke:white;stroke-width:4\"/><line x1=\"235.355\" y1=\"164.645\" x2=\"366.355\" y2=\"164.645\" stroke-linecap=\"round\" style=\"stroke:white;stroke-width:4\"/><line x1=\"366.355\" y1=\"164.645\" x2=\"401.71\" y2=\"200.0\" stroke-linecap=\"round\" style=\"stroke:white;stroke-width:4\"/><line x1=\"401.71\" y1=\"200.0\" x2=\"202.71\" y2=\"200.0\" stroke-linecap=\"round\" style=\"stroke:white;stroke-width:4\"/><line x1=\"202.71\" y1=\"200.0\" x2=\"237.71\" y2=\"200.0\" stroke-linecap=\"round\" style=\"stroke:white;stroke-width:4\"/><line x1=\"237.71\" y1=\"200.0\" x2=\"237.71\" y2=\"164.0\" stroke-linecap=\"round\" style=\"stroke:white;stroke-width:4\"/><line x1=\"237.71\" y1=\"164.0\" x2=\"268.564\" y2=\"200.77\" stroke-linecap=\"round\" style=\"stroke:white;stroke-width:4\"/><line x1=\"268.564\" y1=\"200.77\" x2=\"299.418\" y2=\"164.0\" stroke-linecap=\"round\" style=\"stroke:white;stroke-width:4\"/><line x1=\"299.418\" y1=\"164.0\" x2=\"302.556\" y2=\"199.863\" stroke-linecap=\"round\" style=\"stroke:white;stroke-width:4\"/><line x1=\"302.556\" y1=\"199.863\" x2=\"302.556\" y2=\"163.863\" stroke-linecap=\"round\" style=\"stroke:white;stroke-width:4\"/><line x1=\"302.556\" y1=\"163.863\" x2=\"333.41\" y2=\"200.633\" stroke-linecap=\"round\" style=\"stroke:white;stroke-width:4\"/><line x1=\"333.41\" y1=\"200.633\" x2=\"364.264\" y2=\"163.863\" stroke-linecap=\"round\" style=\"stroke:white;stroke-width:4\"/><line x1=\"364.264\" y1=\"163.863\" x2=\"367.402\" y2=\"199.726\" stroke-linecap=\"round\" style=\"stroke:white;stroke-width:4\"/><line x1=\"367.402\" y1=\"199.726\" x2=\"399.402\" y2=\"199.726\" stroke-linecap=\"round\" style=\"stroke:white;stroke-width:4\"/><line x1=\"399.402\" y1=\"199.726\" x2=\"310\" y2=\"350\" stroke-linecap=\"round\" style=\"stroke:white;stroke-width:4\"/><line x1=\"310\" y1=\"350\" x2=\"200\" y2=\"200\" stroke-linecap=\"round\" style=\"stroke:white;stroke-width:4\"/><line x1=\"200\" y1=\"200\" x2=\"310\" y2=\"350\" stroke-linecap=\"round\" style=\"stroke:white;stroke-width:4\"/><line x1=\"310\" y1=\"350\" x2=\"234\" y2=\"200\" stroke-linecap=\"round\" style=\"stroke:white;stroke-width:4\"/><line x1=\"234\" y1=\"200\" x2=\"310\" y2=\"350\" stroke-linecap=\"round\" style=\"stroke:white;stroke-width:4\"/><line x1=\"310\" y1=\"350\" x2=\"268\" y2=\"200\" stroke-linecap=\"round\" style=\"stroke:white;stroke-width:4\"/><line x1=\"268\" y1=\"200\" x2=\"310\" y2=\"350\" stroke-linecap=\"round\" style=\"stroke:white;stroke-width:4\"/><line x1=\"310\" y1=\"350\" x2=\"302\" y2=\"200\" stroke-linecap=\"round\" style=\"stroke:white;stroke-width:4\"/><line x1=\"302\" y1=\"200\" x2=\"310\" y2=\"350\" stroke-linecap=\"round\" style=\"stroke:white;stroke-width:4\"/><line x1=\"310\" y1=\"350\" x2=\"336\" y2=\"200\" stroke-linecap=\"round\" style=\"stroke:white;stroke-width:4\"/><line x1=\"336\" y1=\"200\" x2=\"310\" y2=\"350\" stroke-linecap=\"round\" style=\"stroke:white;stroke-width:4\"/><line x1=\"310\" y1=\"350\" x2=\"370\" y2=\"200\" stroke-linecap=\"round\" style=\"stroke:white;stroke-width:4\"/>\n",
              "        <g visibility=hidden transform=\"rotate(270,370,200) translate(352, 182)\">\n",
              "<path style=\" stroke:none;fill-rule:evenodd;fill:white;fill-opacity:1;\" d=\"M 18.214844 0.632812 C 16.109375 1.800781 15.011719 4.074219 15.074219 7.132812 L 15.085938 7.652344 L 14.785156 7.496094 C 13.476562 6.824219 11.957031 6.671875 10.40625 7.066406 C 8.46875 7.550781 6.515625 9.15625 4.394531 11.992188 C 3.0625 13.777344 2.679688 14.636719 3.042969 15.027344 L 3.15625 15.152344 L 3.519531 15.152344 C 4.238281 15.152344 4.828125 14.886719 8.1875 13.039062 C 9.386719 12.378906 10.371094 11.839844 10.378906 11.839844 C 10.386719 11.839844 10.355469 11.929688 10.304688 12.035156 C 9.832031 13.09375 9.257812 14.820312 8.96875 16.078125 C 7.914062 20.652344 8.617188 24.53125 11.070312 27.660156 C 11.351562 28.015625 11.363281 27.914062 10.972656 28.382812 C 8.925781 30.84375 7.945312 33.28125 8.238281 35.1875 C 8.289062 35.527344 8.28125 35.523438 8.917969 35.523438 C 10.941406 35.523438 13.074219 34.207031 15.136719 31.6875 C 15.359375 31.417969 15.328125 31.425781 15.5625 31.574219 C 16.292969 32.042969 18.023438 32.964844 18.175781 32.964844 C 18.335938 32.964844 19.941406 32.210938 20.828125 31.71875 C 20.996094 31.625 21.136719 31.554688 21.136719 31.558594 C 21.203125 31.664062 21.898438 32.414062 22.222656 32.730469 C 23.835938 34.300781 25.5625 35.132812 27.582031 35.300781 C 27.90625 35.328125 27.9375 35.308594 28.007812 34.984375 C 28.382812 33.242188 27.625 30.925781 25.863281 28.425781 L 25.542969 27.96875 L 25.699219 27.785156 C 28.945312 23.960938 29.132812 18.699219 26.257812 11.96875 L 26.207031 11.84375 L 27.945312 12.703125 C 31.53125 14.476562 32.316406 14.800781 33.03125 14.800781 C 33.976562 14.800781 33.78125 13.9375 32.472656 12.292969 C 28.519531 7.355469 25.394531 5.925781 21.921875 7.472656 L 21.558594 7.636719 L 21.578125 7.542969 C 21.699219 6.992188 21.761719 5.742188 21.699219 5.164062 C 21.496094 3.296875 20.664062 1.964844 19.003906 0.855469 C 18.480469 0.503906 18.457031 0.5 18.214844 0.632812\"/>\n",
              "</g>\n",
              "      </svg>\n",
              "    "
            ],
            "text/plain": [
              "<IPython.core.display.HTML object>"
            ]
          },
          "metadata": {}
        }
      ]
    }
  ]
}