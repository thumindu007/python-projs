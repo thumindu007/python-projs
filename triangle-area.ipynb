{
  "nbformat": 4,
  "nbformat_minor": 0,
  "metadata": {
    "colab": {
      "name": "class-1.ipynb",
      "provenance": [],
      "collapsed_sections": [],
      "authorship_tag": "ABX9TyM4mojY1FvhN0LxlmxLeXDi",
      "include_colab_link": true
    },
    "kernelspec": {
      "name": "python3",
      "display_name": "Python 3"
    },
    "language_info": {
      "name": "python"
    }
  },
  "cells": [
    {
      "cell_type": "markdown",
      "metadata": {
        "id": "view-in-github",
        "colab_type": "text"
      },
      "source": [
        "<a href=\"https://colab.research.google.com/github/thumindu007/python-projs/blob/main/triangle-area.ipynb\" target=\"_parent\"><img src=\"https://colab.research.google.com/assets/colab-badge.svg\" alt=\"Open In Colab\"/></a>"
      ]
    },
    {
      "cell_type": "code",
      "metadata": {
        "colab": {
          "base_uri": "https://localhost:8080/"
        },
        "id": "ekumlBaKKmMz",
        "outputId": "e26e8c42-b6d0-4c8c-ed38-460af0c88845"
      },
      "source": [
        "print(\"HELLO WORLD :)\")\n",
        "print(\"I WAS HERE 4.98 SECONDS AGO\")"
      ],
      "execution_count": null,
      "outputs": [
        {
          "output_type": "stream",
          "text": [
            "HELLO WORLD :)\n",
            "I WAS HERE 4.98 SECONDS AGO\n"
          ],
          "name": "stdout"
        }
      ]
    },
    {
      "cell_type": "code",
      "metadata": {
        "colab": {
          "base_uri": "https://localhost:8080/"
        },
        "id": "Qy47qadWMBbK",
        "outputId": "eee6522f-1057-4359-9fdc-2deb7b1e0816"
      },
      "source": [
        "print(\"I like legos <*_*>\")\n",
        "print(\"I also like Minecraft <*_*>\")\n",
        "print(\"I also like STAR WARS <*_*>\")"
      ],
      "execution_count": null,
      "outputs": [
        {
          "output_type": "stream",
          "text": [
            "I like legos <*_*>\n",
            "I also like Minecraft <*_*>\n",
            "I also like STAR WARS <*_*>\n"
          ],
          "name": "stdout"
        }
      ]
    },
    {
      "cell_type": "code",
      "metadata": {
        "colab": {
          "base_uri": "https://localhost:8080/"
        },
        "id": "rVFKr0PmNY82",
        "outputId": "02cf3578-ab8d-4251-9891-6941851342b7"
      },
      "source": [
        "name = input(\"enter name here >:) \")\n",
        "\n",
        "age = input(\"what is your age >;) \")\n",
        "\n",
        "game = input(\"what is your favourite game\")\n",
        "\n",
        "print(\"your name is \", name, \"and you are\", age, \"years old and your favourite game is \", game)"
      ],
      "execution_count": null,
      "outputs": [
        {
          "output_type": "stream",
          "text": [
            "enter name here >:)   thumindu\n",
            "what is your age >;)11\n",
            "what is your favourite gameminecraft\n",
            "your name is  thumindu and you are 11 years old and your favourite game is  minecraft\n"
          ],
          "name": "stdout"
        }
      ]
    },
    {
      "cell_type": "code",
      "metadata": {
        "colab": {
          "base_uri": "https://localhost:8080/"
        },
        "id": "OeYKC-CWRxsN",
        "outputId": "8afd78b7-069a-4cf2-fb29-1824dfe95dae"
      },
      "source": [
        "number = input(\"enter a NUMBER\")\n",
        "bignumber = int(number) + 10\n",
        "print(bignumber)"
      ],
      "execution_count": null,
      "outputs": [
        {
          "output_type": "stream",
          "text": [
            "enter a NUMBER27\n",
            "37\n"
          ],
          "name": "stdout"
        }
      ]
    },
    {
      "cell_type": "code",
      "metadata": {
        "colab": {
          "base_uri": "https://localhost:8080/"
        },
        "id": "49HdB8A2T86m",
        "outputId": "e6274910-3aad-4099-8165-78381bd7f27f"
      },
      "source": [
        "n1 = input('chose a number ')\n",
        "n2 = input(\"chose another number \")\n",
        "n3 = int(n1) * int(n2)\n",
        "print(n3)"
      ],
      "execution_count": null,
      "outputs": [
        {
          "output_type": "stream",
          "text": [
            "chose a number 3\n",
            "chose another number 3\n",
            "9\n"
          ],
          "name": "stdout"
        }
      ]
    },
    {
      "cell_type": "code",
      "metadata": {
        "colab": {
          "base_uri": "https://localhost:8080/"
        },
        "id": "qaFzJ9pfVLIi",
        "outputId": "3c29330a-71f6-4c4b-8efc-6241fcc3d3ad"
      },
      "source": [
        "n1 = input('chose a number ')\n",
        "if int(n1) > 100:\n",
        "  print(\"thats a big number\")\n",
        "elif n1 == 100:\n",
        "  print(\"good choice\")\n",
        "else:\n",
        "  print(\"that is small number\")"
      ],
      "execution_count": null,
      "outputs": [
        {
          "output_type": "stream",
          "text": [
            "chose a number 100\n",
            "that is small number\n"
          ],
          "name": "stdout"
        }
      ]
    },
    {
      "cell_type": "code",
      "metadata": {
        "colab": {
          "base_uri": "https://localhost:8080/"
        },
        "id": "cR8AEYO0WgKZ",
        "outputId": "cbbce3d0-ab34-4df1-f29b-4015f2f64e66"
      },
      "source": [
        "n1 = input(\"chose a score\")\n",
        "if int(n1) <= 30:\n",
        "  print(\"you got a D\")\n",
        "elif int(n1) <= 65:\n",
        "  print(\"you got a C\")\n",
        "elif int(n1) <= 75:\n",
        "  print(\"you got a B\")\n",
        "elif int(n1) > 75:\n",
        "  print(\"you got a A\")"
      ],
      "execution_count": null,
      "outputs": [
        {
          "output_type": "stream",
          "text": [
            "chose a score75\n",
            "you got a B\n"
          ],
          "name": "stdout"
        }
      ]
    },
    {
      "cell_type": "code",
      "metadata": {
        "colab": {
          "base_uri": "https://localhost:8080/"
        },
        "id": "c7dj9h4PYBaP",
        "outputId": "42f301bf-9f6e-451b-c77e-41212f6f859a"
      },
      "source": [
        "n1 = input(\"enter your marks\")\n",
        "n1 = int(n1)\n",
        "if n1 <= 30:\n",
        "  print(\"you got a D\")\n",
        "elif n1 > 30 and n1 <= 65:\n",
        "  print(\"you got a C\")\n",
        "elif n1 > 65 and n1 <= 75:\n",
        "  print(\"you got a B\")\n",
        "elif n1 > 75:\n",
        "  print(\"you got a A\")"
      ],
      "execution_count": null,
      "outputs": [
        {
          "output_type": "stream",
          "text": [
            "enter your marks75\n",
            "you got a B\n"
          ],
          "name": "stdout"
        }
      ]
    },
    {
      "cell_type": "code",
      "metadata": {
        "colab": {
          "base_uri": "https://localhost:8080/"
        },
        "id": "3stbSCYoc_VD",
        "outputId": "8432799b-a8f1-4429-b19a-688c105513bb"
      },
      "source": [
        "h = input(\"what is the hight of your triangle\")\n",
        "b = input(\"what is the lenth of your triangle\")\n",
        "h = int(h)\n",
        "b = int(b)\n",
        "a = int(b * h / 2)\n",
        "print(a)"
      ],
      "execution_count": 1,
      "outputs": [
        {
          "output_type": "stream",
          "text": [
            "what is the hight of your triangle3\n",
            "what is the lenth of your triangle2\n",
            "3\n"
          ],
          "name": "stdout"
        }
      ]
    }
  ]
}