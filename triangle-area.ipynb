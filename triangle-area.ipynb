{
  "nbformat": 4,
  "nbformat_minor": 0,
  "metadata": {
    "colab": {
      "name": "class-1.ipynb",
      "provenance": [],
      "collapsed_sections": [],
      "authorship_tag": "ABX9TyPzzr8qpVLDrZK45QujgrY/",
      "include_colab_link": true
    },
    "kernelspec": {
      "name": "python3",
      "display_name": "Python 3"
    },
    "language_info": {
      "name": "python"
    }
  },
  "cells": [
    {
      "cell_type": "markdown",
      "metadata": {
        "id": "view-in-github",
        "colab_type": "text"
      },
      "source": [
        "<a href=\"https://colab.research.google.com/github/thumindu007/python-projs/blob/main/triangle-area.ipynb\" target=\"_parent\"><img src=\"https://colab.research.google.com/assets/colab-badge.svg\" alt=\"Open In Colab\"/></a>"
      ]
    },
    {
      "cell_type": "code",
      "metadata": {
        "colab": {
          "base_uri": "https://localhost:8080/"
        },
        "id": "3stbSCYoc_VD",
        "outputId": "8432799b-a8f1-4429-b19a-688c105513bb"
      },
      "source": [
        "h = input(\"what is the hight of your triangle\")\n",
        "b = input(\"what is the lenth of your triangle\")\n",
        "h = int(h)\n",
        "b = int(b)\n",
        "a = int(b * h / 2)\n",
        "print(a)"
      ],
      "execution_count": 1,
      "outputs": [
        {
          "output_type": "stream",
          "text": [
            "what is the hight of your triangle3\n",
            "what is the lenth of your triangle2\n",
            "3\n"
          ],
          "name": "stdout"
        }
      ]
    }
  ]
}