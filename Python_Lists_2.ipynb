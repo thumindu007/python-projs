{
  "nbformat": 4,
  "nbformat_minor": 0,
  "metadata": {
    "colab": {
      "name": "Python Lists - 2.ipynb",
      "provenance": [],
      "authorship_tag": "ABX9TyPkvsI7m6L1X03qiine+uN/",
      "include_colab_link": true
    },
    "kernelspec": {
      "name": "python3",
      "display_name": "Python 3"
    },
    "language_info": {
      "name": "python"
    }
  },
  "cells": [
    {
      "cell_type": "markdown",
      "metadata": {
        "id": "view-in-github",
        "colab_type": "text"
      },
      "source": [
        "<a href=\"https://colab.research.google.com/github/thumindu007/python-projs/blob/main/Python_Lists_2.ipynb\" target=\"_parent\"><img src=\"https://colab.research.google.com/assets/colab-badge.svg\" alt=\"Open In Colab\"/></a>"
      ]
    },
    {
      "cell_type": "code",
      "metadata": {
        "colab": {
          "base_uri": "https://localhost:8080/"
        },
        "id": "IzQQD7O5HLjW",
        "outputId": "41e8c4b6-1ed2-47b2-e937-1d6a9b30bdb5"
      },
      "source": [
        "ql = ['What is your name', 'How old are you', 'What is your school']\n",
        "answers = []\n",
        "count = 0\n",
        "for counter in range(0,3):\n",
        "  detail = input(ql[count] )\n",
        "  answers.append(detail)\n",
        "  count = count + 1\n",
        "print(answers )"
      ],
      "execution_count": 17,
      "outputs": [
        {
          "output_type": "stream",
          "text": [
            "What is your namethumindu\n",
            "How old are you11\n",
            "What is your schoolwest leeming ps\n",
            "['thumindu', '11', 'west leeming ps']\n"
          ],
          "name": "stdout"
        }
      ]
    },
    {
      "cell_type": "code",
      "metadata": {
        "colab": {
          "base_uri": "https://localhost:8080/"
        },
        "id": "mXS3yMwxI7a6",
        "outputId": "384d7c9a-9971-415d-c0f9-70d715f210c0"
      },
      "source": [
        "marks = []\n",
        "count = 0\n",
        "amount = int(input(\"how much marks do you want to record? \"))\n",
        "for counter in range(0,amount):\n",
        "  mark = int(input(\"What is the one of the marks? \"))\n",
        "  marks.append(mark)\n",
        "  count = count + 1\n",
        "\n",
        "average = sum(marks) / amount\n",
        "print(average)"
      ],
      "execution_count": 15,
      "outputs": [
        {
          "output_type": "stream",
          "text": [
            "how much marks do you want to record? 5\n",
            "What is the one of the marks? 1\n",
            "What is the one of the marks? 2\n",
            "What is the one of the marks? 3\n",
            "What is the one of the marks? 4\n",
            "What is the one of the marks? 5\n",
            "3.0\n"
          ],
          "name": "stdout"
        }
      ]
    }
  ]
}