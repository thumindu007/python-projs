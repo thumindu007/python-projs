{
  "nbformat": 4,
  "nbformat_minor": 0,
  "metadata": {
    "colab": {
      "name": "everhthing.ipynb",
      "provenance": [],
      "collapsed_sections": [],
      "authorship_tag": "ABX9TyNYnnAHJdKtmGDgLpP/II+o",
      "include_colab_link": true
    },
    "kernelspec": {
      "display_name": "Python 3",
      "name": "python3"
    },
    "language_info": {
      "name": "python"
    }
  },
  "cells": [
    {
      "cell_type": "markdown",
      "metadata": {
        "id": "view-in-github",
        "colab_type": "text"
      },
      "source": [
        "<a href=\"https://colab.research.google.com/github/thumindu007/python-projs/blob/main/everhthing.ipynb\" target=\"_parent\"><img src=\"https://colab.research.google.com/assets/colab-badge.svg\" alt=\"Open In Colab\"/></a>"
      ]
    },
    {
      "cell_type": "code",
      "metadata": {
        "colab": {
          "base_uri": "https://localhost:8080/"
        },
        "id": "ATiQEkFV7q_y",
        "outputId": "677b75fb-cd3a-48d8-ef94-56838acd22f3"
      },
      "source": [
        "!pip3 install ColabTurtle"
      ],
      "execution_count": 2,
      "outputs": [
        {
          "output_type": "stream",
          "name": "stdout",
          "text": [
            "Collecting ColabTurtle\n",
            "  Downloading ColabTurtle-2.1.0.tar.gz (6.8 kB)\n",
            "Building wheels for collected packages: ColabTurtle\n",
            "  Building wheel for ColabTurtle (setup.py) ... \u001b[?25l\u001b[?25hdone\n",
            "  Created wheel for ColabTurtle: filename=ColabTurtle-2.1.0-py3-none-any.whl size=7655 sha256=08c6d5aa5921661779559ad3b26411a93b418d6fc3ce9e7aae60f34c2185e057\n",
            "  Stored in directory: /root/.cache/pip/wheels/0d/ab/65/cc4478508751448dfb4ecb20a6533082855c227dfce8c13902\n",
            "Successfully built ColabTurtle\n",
            "Installing collected packages: ColabTurtle\n",
            "Successfully installed ColabTurtle-2.1.0\n"
          ]
        }
      ]
    },
    {
      "cell_type": "code",
      "metadata": {
        "colab": {
          "base_uri": "https://localhost:8080/",
          "height": 521
        },
        "id": "WlROTnuJ8Dqb",
        "outputId": "1132eacf-ebe2-4c10-ba36-75ea5d3a6084"
      },
      "source": [
        "from ColabTurtle.Turtle import *\n",
        "\n",
        "def start():\n",
        "  initializeTurtle()\n",
        "  hideturtle()\n",
        "  bgcolor(\"white\")\n",
        "  penup()\n",
        "  setpos(250,130)\n",
        "  speed(13)\n",
        "  pencolor(\"blue\")\n",
        "\n",
        "def draw(letter):\n",
        "  write(letter, font=(150, \"bold\", \"normal\"))\n",
        "\n",
        "start()\n",
        "\n",
        "\n",
        "# draw olympic logo----------------------------\n",
        "\n",
        "draw('O')\n",
        "\n",
        "\n",
        "pencolor(\"black\")\n",
        "setpos(350,130)\n",
        "\n",
        "draw('O')\n",
        "\n",
        "\n",
        "pencolor(\"red\")\n",
        "setpos(450,130)\n",
        "\n",
        "draw('O')\n",
        "\n",
        "\n",
        "setpos(300,190)\n",
        "pencolor(\"yellow\")\n",
        "\n",
        "\n",
        "draw('O')\n",
        "\n",
        "\n",
        "pencolor(\"green\")\n",
        "setpos(400,190)\n",
        "\n",
        "\n",
        "draw('O')\n",
        "\n",
        "\n",
        "# draw words -----------------------------\n",
        "\n",
        "sety(290)\n",
        "pencolor(\"black\")\n",
        "write(\"Olympics\", align=\"center\", font=(100, \"bold\", \"normal\"))\n",
        "\n",
        "sety(390)\n",
        "write(\"2021\", align=\"center\", font=(100, \"bold\", \"normal\"))\n",
        "\n",
        "sety(290)\n",
        "pencolor(\"black\")\n",
        "\n",
        "#draw name------------------------------\n",
        "\n",
        "setpos(725,495)\n",
        "write(\"BY THUMINDU\", font=(10, \"bold\", \"normal\"))"
      ],
      "execution_count": 14,
      "outputs": [
        {
          "output_type": "display_data",
          "data": {
            "text/html": [
              "\n",
              "      <svg width=\"800\" height=\"500\">\n",
              "        <rect width=\"100%\" height=\"100%\" fill=\"white\"/>\n",
              "        <text x=\"250\" y=\"130\" fill=\"blue\" text-anchor=\"start\" style=\"font-size:150px;font-family:'bold';\">O</text><text x=\"350\" y=\"130\" fill=\"black\" text-anchor=\"start\" style=\"font-size:150px;font-family:'bold';\">O</text><text x=\"450\" y=\"130\" fill=\"red\" text-anchor=\"start\" style=\"font-size:150px;font-family:'bold';\">O</text><text x=\"300\" y=\"190\" fill=\"yellow\" text-anchor=\"start\" style=\"font-size:150px;font-family:'bold';\">O</text><text x=\"400\" y=\"190\" fill=\"green\" text-anchor=\"start\" style=\"font-size:150px;font-family:'bold';\">O</text><text x=\"400\" y=\"290\" fill=\"black\" text-anchor=\"middle\" style=\"font-size:100px;font-family:'bold';\">Olympics</text><text x=\"400\" y=\"390\" fill=\"black\" text-anchor=\"middle\" style=\"font-size:100px;font-family:'bold';\">2021</text><text x=\"725\" y=\"495\" fill=\"black\" text-anchor=\"start\" style=\"font-size:10px;font-family:'bold';\">BY THUMINDU</text>\n",
              "        <g visibility=hidden transform=\"rotate(360,725,495) translate(707, 477)\">\n",
              "<path style=\" stroke:none;fill-rule:evenodd;fill:black;fill-opacity:1;\" d=\"M 18.214844 0.632812 C 16.109375 1.800781 15.011719 4.074219 15.074219 7.132812 L 15.085938 7.652344 L 14.785156 7.496094 C 13.476562 6.824219 11.957031 6.671875 10.40625 7.066406 C 8.46875 7.550781 6.515625 9.15625 4.394531 11.992188 C 3.0625 13.777344 2.679688 14.636719 3.042969 15.027344 L 3.15625 15.152344 L 3.519531 15.152344 C 4.238281 15.152344 4.828125 14.886719 8.1875 13.039062 C 9.386719 12.378906 10.371094 11.839844 10.378906 11.839844 C 10.386719 11.839844 10.355469 11.929688 10.304688 12.035156 C 9.832031 13.09375 9.257812 14.820312 8.96875 16.078125 C 7.914062 20.652344 8.617188 24.53125 11.070312 27.660156 C 11.351562 28.015625 11.363281 27.914062 10.972656 28.382812 C 8.925781 30.84375 7.945312 33.28125 8.238281 35.1875 C 8.289062 35.527344 8.28125 35.523438 8.917969 35.523438 C 10.941406 35.523438 13.074219 34.207031 15.136719 31.6875 C 15.359375 31.417969 15.328125 31.425781 15.5625 31.574219 C 16.292969 32.042969 18.023438 32.964844 18.175781 32.964844 C 18.335938 32.964844 19.941406 32.210938 20.828125 31.71875 C 20.996094 31.625 21.136719 31.554688 21.136719 31.558594 C 21.203125 31.664062 21.898438 32.414062 22.222656 32.730469 C 23.835938 34.300781 25.5625 35.132812 27.582031 35.300781 C 27.90625 35.328125 27.9375 35.308594 28.007812 34.984375 C 28.382812 33.242188 27.625 30.925781 25.863281 28.425781 L 25.542969 27.96875 L 25.699219 27.785156 C 28.945312 23.960938 29.132812 18.699219 26.257812 11.96875 L 26.207031 11.84375 L 27.945312 12.703125 C 31.53125 14.476562 32.316406 14.800781 33.03125 14.800781 C 33.976562 14.800781 33.78125 13.9375 32.472656 12.292969 C 28.519531 7.355469 25.394531 5.925781 21.921875 7.472656 L 21.558594 7.636719 L 21.578125 7.542969 C 21.699219 6.992188 21.761719 5.742188 21.699219 5.164062 C 21.496094 3.296875 20.664062 1.964844 19.003906 0.855469 C 18.480469 0.503906 18.457031 0.5 18.214844 0.632812\"/>\n",
              "</g>\n",
              "      </svg>\n",
              "    "
            ],
            "text/plain": [
              "<IPython.core.display.HTML object>"
            ]
          },
          "metadata": {}
        }
      ]
    }
  ]
}