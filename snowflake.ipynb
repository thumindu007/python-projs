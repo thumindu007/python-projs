{
  "nbformat": 4,
  "nbformat_minor": 0,
  "metadata": {
    "colab": {
      "name": "snowflake.ipynb",
      "provenance": [],
      "authorship_tag": "ABX9TyNQWGES4k5PoG7RtFsahB8s",
      "include_colab_link": true
    },
    "kernelspec": {
      "name": "python3",
      "display_name": "Python 3"
    },
    "language_info": {
      "name": "python"
    }
  },
  "cells": [
    {
      "cell_type": "markdown",
      "metadata": {
        "id": "view-in-github",
        "colab_type": "text"
      },
      "source": [
        "<a href=\"https://colab.research.google.com/github/thumindu007/python-projs/blob/main/snowflake.ipynb\" target=\"_parent\"><img src=\"https://colab.research.google.com/assets/colab-badge.svg\" alt=\"Open In Colab\"/></a>"
      ]
    },
    {
      "cell_type": "code",
      "metadata": {
        "colab": {
          "base_uri": "https://localhost:8080/"
        },
        "id": "g-MbnvivELK7",
        "outputId": "850d4677-c507-4270-9633-5455c95e24f0"
      },
      "source": [
        "!pip3 install ColabTurtle"
      ],
      "execution_count": 2,
      "outputs": [
        {
          "output_type": "stream",
          "name": "stdout",
          "text": [
            "Collecting ColabTurtle\n",
            "  Downloading ColabTurtle-2.1.0.tar.gz (6.8 kB)\n",
            "Building wheels for collected packages: ColabTurtle\n",
            "  Building wheel for ColabTurtle (setup.py) ... \u001b[?25l\u001b[?25hdone\n",
            "  Created wheel for ColabTurtle: filename=ColabTurtle-2.1.0-py3-none-any.whl size=7655 sha256=0f860d41cf48b29720059c79693bb6adb9c12b9526cda4bf960036d7b63aa8cb\n",
            "  Stored in directory: /root/.cache/pip/wheels/0d/ab/65/cc4478508751448dfb4ecb20a6533082855c227dfce8c13902\n",
            "Successfully built ColabTurtle\n",
            "Installing collected packages: ColabTurtle\n",
            "Successfully installed ColabTurtle-2.1.0\n"
          ]
        }
      ]
    },
    {
      "cell_type": "code",
      "metadata": {
        "colab": {
          "base_uri": "https://localhost:8080/",
          "height": 521
        },
        "id": "Vq7PVPdyFVSO",
        "outputId": "e9e03664-f368-4582-debf-eeefa7dc2a46"
      },
      "source": [
        "from ColabTurtle.Turtle import *\n",
        "initializeTurtle()\n",
        "penup()\n",
        "setpos(200,200)\n",
        "pendown()\n",
        "right(180)\n",
        "speed(13)\n",
        "\n",
        "def line1():\n",
        "  forward(30)\n",
        "  right(135)\n",
        "  forward(30)\n",
        "  backward(30)\n",
        "  right(90)\n",
        "  forward(30)\n",
        "  backward(30)\n",
        "  right(135)\n",
        "  forward(70)\n",
        "  right(45)\n",
        "  penup()\n",
        "  backward(100)\n",
        "  pendown()\n",
        "\n",
        "def line2():\n",
        "  forward(30)\n",
        "  right(135)\n",
        "  forward(30)\n",
        "  backward(30)\n",
        "  right(90)\n",
        "  forward(30)\n",
        "  backward(30)\n",
        "  right(135)\n",
        "  forward(30)\n",
        "  right(135)\n",
        "  forward(20)\n",
        "  backward(20)\n",
        "  right(90)\n",
        "  forward(20)\n",
        "  backward(20)\n",
        "  right(135)\n",
        "  forward(40)\n",
        "  right(45)\n",
        "  penup()\n",
        "  backward(100)\n",
        "  pendown()\n",
        "\n",
        "line2()\n",
        "line1()\n",
        "line2()\n",
        "line1()\n",
        "line2()\n",
        "line1()\n",
        "line2()\n",
        "line1()"
      ],
      "execution_count": 11,
      "outputs": [
        {
          "output_type": "display_data",
          "data": {
            "text/html": [
              "\n",
              "      <svg width=\"800\" height=\"500\">\n",
              "        <rect width=\"100%\" height=\"100%\" fill=\"black\"/>\n",
              "        <line x1=\"200\" y1=\"200\" x2=\"200.0\" y2=\"230.0\" stroke-linecap=\"round\" style=\"stroke:white;stroke-width:4\"/><line x1=\"200.0\" y1=\"230.0\" x2=\"178.787\" y2=\"208.787\" stroke-linecap=\"round\" style=\"stroke:white;stroke-width:4\"/><line x1=\"178.787\" y1=\"208.787\" x2=\"200.0\" y2=\"230.0\" stroke-linecap=\"round\" style=\"stroke:white;stroke-width:4\"/><line x1=\"200.0\" y1=\"230.0\" x2=\"221.213\" y2=\"208.787\" stroke-linecap=\"round\" style=\"stroke:white;stroke-width:4\"/><line x1=\"221.213\" y1=\"208.787\" x2=\"200.0\" y2=\"230.0\" stroke-linecap=\"round\" style=\"stroke:white;stroke-width:4\"/><line x1=\"200.0\" y1=\"230.0\" x2=\"200.0\" y2=\"260.0\" stroke-linecap=\"round\" style=\"stroke:white;stroke-width:4\"/><line x1=\"200.0\" y1=\"260.0\" x2=\"185.858\" y2=\"245.858\" stroke-linecap=\"round\" style=\"stroke:white;stroke-width:4\"/><line x1=\"185.858\" y1=\"245.858\" x2=\"200.0\" y2=\"260.0\" stroke-linecap=\"round\" style=\"stroke:white;stroke-width:4\"/><line x1=\"200.0\" y1=\"260.0\" x2=\"214.142\" y2=\"245.858\" stroke-linecap=\"round\" style=\"stroke:white;stroke-width:4\"/><line x1=\"214.142\" y1=\"245.858\" x2=\"200.0\" y2=\"260.0\" stroke-linecap=\"round\" style=\"stroke:white;stroke-width:4\"/><line x1=\"200.0\" y1=\"260.0\" x2=\"200.0\" y2=\"300.0\" stroke-linecap=\"round\" style=\"stroke:white;stroke-width:4\"/><line x1=\"270.711\" y1=\"229.289\" x2=\"249.498\" y2=\"250.502\" stroke-linecap=\"round\" style=\"stroke:white;stroke-width:4\"/><line x1=\"249.498\" y1=\"250.502\" x2=\"249.498\" y2=\"220.502\" stroke-linecap=\"round\" style=\"stroke:white;stroke-width:4\"/><line x1=\"249.498\" y1=\"220.502\" x2=\"249.498\" y2=\"250.502\" stroke-linecap=\"round\" style=\"stroke:white;stroke-width:4\"/><line x1=\"249.498\" y1=\"250.502\" x2=\"279.498\" y2=\"250.502\" stroke-linecap=\"round\" style=\"stroke:white;stroke-width:4\"/><line x1=\"279.498\" y1=\"250.502\" x2=\"249.498\" y2=\"250.502\" stroke-linecap=\"round\" style=\"stroke:white;stroke-width:4\"/><line x1=\"249.498\" y1=\"250.502\" x2=\"200.001\" y2=\"299.999\" stroke-linecap=\"round\" style=\"stroke:white;stroke-width:4\"/><line x1=\"300.001\" y1=\"299.999\" x2=\"270.001\" y2=\"299.999\" stroke-linecap=\"round\" style=\"stroke:white;stroke-width:4\"/><line x1=\"270.001\" y1=\"299.999\" x2=\"291.214\" y2=\"278.786\" stroke-linecap=\"round\" style=\"stroke:white;stroke-width:4\"/><line x1=\"291.214\" y1=\"278.786\" x2=\"270.001\" y2=\"299.999\" stroke-linecap=\"round\" style=\"stroke:white;stroke-width:4\"/><line x1=\"270.001\" y1=\"299.999\" x2=\"291.214\" y2=\"321.212\" stroke-linecap=\"round\" style=\"stroke:white;stroke-width:4\"/><line x1=\"291.214\" y1=\"321.212\" x2=\"270.001\" y2=\"299.999\" stroke-linecap=\"round\" style=\"stroke:white;stroke-width:4\"/><line x1=\"270.001\" y1=\"299.999\" x2=\"240.001\" y2=\"299.999\" stroke-linecap=\"round\" style=\"stroke:white;stroke-width:4\"/><line x1=\"240.001\" y1=\"299.999\" x2=\"254.143\" y2=\"285.857\" stroke-linecap=\"round\" style=\"stroke:white;stroke-width:4\"/><line x1=\"254.143\" y1=\"285.857\" x2=\"240.001\" y2=\"299.999\" stroke-linecap=\"round\" style=\"stroke:white;stroke-width:4\"/><line x1=\"240.001\" y1=\"299.999\" x2=\"254.143\" y2=\"314.141\" stroke-linecap=\"round\" style=\"stroke:white;stroke-width:4\"/><line x1=\"254.143\" y1=\"314.141\" x2=\"240.001\" y2=\"299.999\" stroke-linecap=\"round\" style=\"stroke:white;stroke-width:4\"/><line x1=\"240.001\" y1=\"299.999\" x2=\"200.001\" y2=\"299.999\" stroke-linecap=\"round\" style=\"stroke:white;stroke-width:4\"/><line x1=\"270.712\" y1=\"370.71\" x2=\"249.499\" y2=\"349.497\" stroke-linecap=\"round\" style=\"stroke:white;stroke-width:4\"/><line x1=\"249.499\" y1=\"349.497\" x2=\"279.499\" y2=\"349.497\" stroke-linecap=\"round\" style=\"stroke:white;stroke-width:4\"/><line x1=\"279.499\" y1=\"349.497\" x2=\"249.499\" y2=\"349.497\" stroke-linecap=\"round\" style=\"stroke:white;stroke-width:4\"/><line x1=\"249.499\" y1=\"349.497\" x2=\"249.499\" y2=\"379.497\" stroke-linecap=\"round\" style=\"stroke:white;stroke-width:4\"/><line x1=\"249.499\" y1=\"379.497\" x2=\"249.499\" y2=\"349.497\" stroke-linecap=\"round\" style=\"stroke:white;stroke-width:4\"/><line x1=\"249.499\" y1=\"349.497\" x2=\"200.002\" y2=\"300.0\" stroke-linecap=\"round\" style=\"stroke:white;stroke-width:4\"/><line x1=\"200.002\" y1=\"400.0\" x2=\"200.002\" y2=\"370.0\" stroke-linecap=\"round\" style=\"stroke:white;stroke-width:4\"/><line x1=\"200.002\" y1=\"370.0\" x2=\"221.215\" y2=\"391.213\" stroke-linecap=\"round\" style=\"stroke:white;stroke-width:4\"/><line x1=\"221.215\" y1=\"391.213\" x2=\"200.002\" y2=\"370.0\" stroke-linecap=\"round\" style=\"stroke:white;stroke-width:4\"/><line x1=\"200.002\" y1=\"370.0\" x2=\"178.789\" y2=\"391.213\" stroke-linecap=\"round\" style=\"stroke:white;stroke-width:4\"/><line x1=\"178.789\" y1=\"391.213\" x2=\"200.002\" y2=\"370.0\" stroke-linecap=\"round\" style=\"stroke:white;stroke-width:4\"/><line x1=\"200.002\" y1=\"370.0\" x2=\"200.002\" y2=\"340.0\" stroke-linecap=\"round\" style=\"stroke:white;stroke-width:4\"/><line x1=\"200.002\" y1=\"340.0\" x2=\"214.144\" y2=\"354.142\" stroke-linecap=\"round\" style=\"stroke:white;stroke-width:4\"/><line x1=\"214.144\" y1=\"354.142\" x2=\"200.002\" y2=\"340.0\" stroke-linecap=\"round\" style=\"stroke:white;stroke-width:4\"/><line x1=\"200.002\" y1=\"340.0\" x2=\"185.86\" y2=\"354.142\" stroke-linecap=\"round\" style=\"stroke:white;stroke-width:4\"/><line x1=\"185.86\" y1=\"354.142\" x2=\"200.002\" y2=\"340.0\" stroke-linecap=\"round\" style=\"stroke:white;stroke-width:4\"/><line x1=\"200.002\" y1=\"340.0\" x2=\"200.002\" y2=\"300.0\" stroke-linecap=\"round\" style=\"stroke:white;stroke-width:4\"/><line x1=\"129.291\" y1=\"370.711\" x2=\"150.504\" y2=\"349.498\" stroke-linecap=\"round\" style=\"stroke:white;stroke-width:4\"/><line x1=\"150.504\" y1=\"349.498\" x2=\"150.504\" y2=\"379.498\" stroke-linecap=\"round\" style=\"stroke:white;stroke-width:4\"/><line x1=\"150.504\" y1=\"379.498\" x2=\"150.504\" y2=\"349.498\" stroke-linecap=\"round\" style=\"stroke:white;stroke-width:4\"/><line x1=\"150.504\" y1=\"349.498\" x2=\"120.504\" y2=\"349.498\" stroke-linecap=\"round\" style=\"stroke:white;stroke-width:4\"/><line x1=\"120.504\" y1=\"349.498\" x2=\"150.504\" y2=\"349.498\" stroke-linecap=\"round\" style=\"stroke:white;stroke-width:4\"/><line x1=\"150.504\" y1=\"349.498\" x2=\"200.001\" y2=\"300.001\" stroke-linecap=\"round\" style=\"stroke:white;stroke-width:4\"/><line x1=\"100.001\" y1=\"300.001\" x2=\"130.001\" y2=\"300.001\" stroke-linecap=\"round\" style=\"stroke:white;stroke-width:4\"/><line x1=\"130.001\" y1=\"300.001\" x2=\"108.788\" y2=\"321.214\" stroke-linecap=\"round\" style=\"stroke:white;stroke-width:4\"/><line x1=\"108.788\" y1=\"321.214\" x2=\"130.001\" y2=\"300.001\" stroke-linecap=\"round\" style=\"stroke:white;stroke-width:4\"/><line x1=\"130.001\" y1=\"300.001\" x2=\"108.788\" y2=\"278.788\" stroke-linecap=\"round\" style=\"stroke:white;stroke-width:4\"/><line x1=\"108.788\" y1=\"278.788\" x2=\"130.001\" y2=\"300.001\" stroke-linecap=\"round\" style=\"stroke:white;stroke-width:4\"/><line x1=\"130.001\" y1=\"300.001\" x2=\"160.001\" y2=\"300.001\" stroke-linecap=\"round\" style=\"stroke:white;stroke-width:4\"/><line x1=\"160.001\" y1=\"300.001\" x2=\"145.859\" y2=\"314.143\" stroke-linecap=\"round\" style=\"stroke:white;stroke-width:4\"/><line x1=\"145.859\" y1=\"314.143\" x2=\"160.001\" y2=\"300.001\" stroke-linecap=\"round\" style=\"stroke:white;stroke-width:4\"/><line x1=\"160.001\" y1=\"300.001\" x2=\"145.859\" y2=\"285.859\" stroke-linecap=\"round\" style=\"stroke:white;stroke-width:4\"/><line x1=\"145.859\" y1=\"285.859\" x2=\"160.001\" y2=\"300.001\" stroke-linecap=\"round\" style=\"stroke:white;stroke-width:4\"/><line x1=\"160.001\" y1=\"300.001\" x2=\"200.001\" y2=\"300.001\" stroke-linecap=\"round\" style=\"stroke:white;stroke-width:4\"/><line x1=\"129.29\" y1=\"229.29\" x2=\"150.503\" y2=\"250.503\" stroke-linecap=\"round\" style=\"stroke:white;stroke-width:4\"/><line x1=\"150.503\" y1=\"250.503\" x2=\"120.503\" y2=\"250.503\" stroke-linecap=\"round\" style=\"stroke:white;stroke-width:4\"/><line x1=\"120.503\" y1=\"250.503\" x2=\"150.503\" y2=\"250.503\" stroke-linecap=\"round\" style=\"stroke:white;stroke-width:4\"/><line x1=\"150.503\" y1=\"250.503\" x2=\"150.503\" y2=\"220.503\" stroke-linecap=\"round\" style=\"stroke:white;stroke-width:4\"/><line x1=\"150.503\" y1=\"220.503\" x2=\"150.503\" y2=\"250.503\" stroke-linecap=\"round\" style=\"stroke:white;stroke-width:4\"/><line x1=\"150.503\" y1=\"250.503\" x2=\"200.0\" y2=\"300.0\" stroke-linecap=\"round\" style=\"stroke:white;stroke-width:4\"/>\n",
              "        <g visibility=visible transform=\"rotate(180,200.0,200.0) translate(182.0, 182.0)\">\n",
              "<path style=\" stroke:none;fill-rule:evenodd;fill:white;fill-opacity:1;\" d=\"M 18.214844 0.632812 C 16.109375 1.800781 15.011719 4.074219 15.074219 7.132812 L 15.085938 7.652344 L 14.785156 7.496094 C 13.476562 6.824219 11.957031 6.671875 10.40625 7.066406 C 8.46875 7.550781 6.515625 9.15625 4.394531 11.992188 C 3.0625 13.777344 2.679688 14.636719 3.042969 15.027344 L 3.15625 15.152344 L 3.519531 15.152344 C 4.238281 15.152344 4.828125 14.886719 8.1875 13.039062 C 9.386719 12.378906 10.371094 11.839844 10.378906 11.839844 C 10.386719 11.839844 10.355469 11.929688 10.304688 12.035156 C 9.832031 13.09375 9.257812 14.820312 8.96875 16.078125 C 7.914062 20.652344 8.617188 24.53125 11.070312 27.660156 C 11.351562 28.015625 11.363281 27.914062 10.972656 28.382812 C 8.925781 30.84375 7.945312 33.28125 8.238281 35.1875 C 8.289062 35.527344 8.28125 35.523438 8.917969 35.523438 C 10.941406 35.523438 13.074219 34.207031 15.136719 31.6875 C 15.359375 31.417969 15.328125 31.425781 15.5625 31.574219 C 16.292969 32.042969 18.023438 32.964844 18.175781 32.964844 C 18.335938 32.964844 19.941406 32.210938 20.828125 31.71875 C 20.996094 31.625 21.136719 31.554688 21.136719 31.558594 C 21.203125 31.664062 21.898438 32.414062 22.222656 32.730469 C 23.835938 34.300781 25.5625 35.132812 27.582031 35.300781 C 27.90625 35.328125 27.9375 35.308594 28.007812 34.984375 C 28.382812 33.242188 27.625 30.925781 25.863281 28.425781 L 25.542969 27.96875 L 25.699219 27.785156 C 28.945312 23.960938 29.132812 18.699219 26.257812 11.96875 L 26.207031 11.84375 L 27.945312 12.703125 C 31.53125 14.476562 32.316406 14.800781 33.03125 14.800781 C 33.976562 14.800781 33.78125 13.9375 32.472656 12.292969 C 28.519531 7.355469 25.394531 5.925781 21.921875 7.472656 L 21.558594 7.636719 L 21.578125 7.542969 C 21.699219 6.992188 21.761719 5.742188 21.699219 5.164062 C 21.496094 3.296875 20.664062 1.964844 19.003906 0.855469 C 18.480469 0.503906 18.457031 0.5 18.214844 0.632812\"/>\n",
              "</g>\n",
              "      </svg>\n",
              "    "
            ],
            "text/plain": [
              "<IPython.core.display.HTML object>"
            ]
          },
          "metadata": {}
        }
      ]
    }
  ]
}