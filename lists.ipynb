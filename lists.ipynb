{
  "nbformat": 4,
  "nbformat_minor": 0,
  "metadata": {
    "colab": {
      "name": "lists.ipynb",
      "provenance": [],
      "collapsed_sections": [],
      "authorship_tag": "ABX9TyP0E9TuvniejO787vPaZtZq",
      "include_colab_link": true
    },
    "kernelspec": {
      "name": "python3",
      "display_name": "Python 3"
    },
    "language_info": {
      "name": "python"
    }
  },
  "cells": [
    {
      "cell_type": "markdown",
      "metadata": {
        "id": "view-in-github",
        "colab_type": "text"
      },
      "source": [
        "<a href=\"https://colab.research.google.com/github/thumindu007/python-projs/blob/main/lists.ipynb\" target=\"_parent\"><img src=\"https://colab.research.google.com/assets/colab-badge.svg\" alt=\"Open In Colab\"/></a>"
      ]
    },
    {
      "cell_type": "code",
      "metadata": {
        "colab": {
          "base_uri": "https://localhost:8080/"
        },
        "id": "BKO3L4l7LrqF",
        "outputId": "d4d58214-1d03-4f54-b4ed-d7f7d91b274e"
      },
      "source": [
        "#                               Exercise 1\n",
        "friends = [11, 10, 10, 11, 11]\n",
        "sum = 0\n",
        "for friend in friends:\n",
        "  print(\"Age is\", friend)\n",
        "  sum = sum + friend\n",
        "average = sum / 5\n",
        "print(\"The average is\", average)"
      ],
      "execution_count": null,
      "outputs": [
        {
          "output_type": "stream",
          "text": [
            "Age is 11\n",
            "Age is 10\n",
            "Age is 10\n",
            "Age is 11\n",
            "Age is 11\n",
            "The average is 10.6\n"
          ],
          "name": "stdout"
        }
      ]
    },
    {
      "cell_type": "code",
      "metadata": {
        "colab": {
          "base_uri": "https://localhost:8080/"
        },
        "id": "PzNsPhKtOLk_",
        "outputId": "16326201-157d-471d-b76e-e639cf963e9f"
      },
      "source": [
        "#                               Exercise 2\n",
        "numbers = []\n",
        "counter = 0\n",
        "sum = 0\n",
        "while counter < 4:\n",
        "  number = int((input(\"what do you want to put in \")))\n",
        "  numbers.append(number)\n",
        "  sum = sum + number\n",
        "  counter = counter + 1\n",
        "average = sum / counter\n",
        "print(average)"
      ],
      "execution_count": null,
      "outputs": [
        {
          "output_type": "stream",
          "text": [
            "what do you want to put in 1\n",
            "what do you want to put in 2\n",
            "what do you want to put in 3\n",
            "what do you want to put in 4\n",
            "2.5\n"
          ],
          "name": "stdout"
        }
      ]
    },
    {
      "cell_type": "code",
      "metadata": {
        "id": "-DNhgPtbUapN",
        "colab": {
          "base_uri": "https://localhost:8080/"
        },
        "outputId": "e0ae426a-e1c1-4f50-e501-0156fb4995b8"
      },
      "source": [
        "#                               Exercise 3\n",
        "suberbs = []\n",
        "for counter in range(0,6):\n",
        "  suberb = input(\"What is a suberb in Perth?\")\n",
        "  suberbs.append(suberb)\n",
        "print(suberbs)"
      ],
      "execution_count": 1,
      "outputs": [
        {
          "output_type": "stream",
          "text": [
            "What is a suberb in Perth?leeming\n",
            "What is a suberb in Perth?williton\n",
            "What is a suberb in Perth?caningvale\n",
            "What is a suberb in Perth?bullcreek\n",
            "What is a suberb in Perth?kadinia\n",
            "What is a suberb in Perth?cockburn\n",
            "['leeming', 'williton', 'caningvale', 'bullcreek', 'kadinia', 'cockburn']\n"
          ],
          "name": "stdout"
        }
      ]
    },
    {
      "cell_type": "code",
      "metadata": {
        "colab": {
          "base_uri": "https://localhost:8080/"
        },
        "id": "KatbYYYAm97p",
        "outputId": "8cefa2a7-d2ee-4520-c972-f30d4a801be0"
      },
      "source": [
        "#                               Exercise 4\n",
        "marks = []\n",
        "people = int(input(\"How many people's marks do you want?\"))\n",
        "sum = 0\n",
        "for counter in range(0,people):\n",
        "  mark = int((input(\"what do you want to put in \")))\n",
        "  marks.append(mark)\n",
        "  sum = sum + mark\n",
        "average = sum / people\n",
        "print(average)"
      ],
      "execution_count": 11,
      "outputs": [
        {
          "output_type": "stream",
          "text": [
            "How many people's marks do you want?5\n",
            "what do you want to put in 1\n",
            "what do you want to put in 2\n",
            "what do you want to put in 4\n",
            "what do you want to put in 5\n",
            "what do you want to put in 6\n",
            "3.6\n"
          ],
          "name": "stdout"
        }
      ]
    }
  ]
}