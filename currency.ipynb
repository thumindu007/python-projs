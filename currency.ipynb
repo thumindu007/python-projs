{
  "nbformat": 4,
  "nbformat_minor": 0,
  "metadata": {
    "colab": {
      "name": "currency.ipynb",
      "provenance": [],
      "authorship_tag": "ABX9TyO3WRpUmSMsaVUqK2WgrsQZ",
      "include_colab_link": true
    },
    "kernelspec": {
      "name": "python3",
      "display_name": "Python 3"
    },
    "language_info": {
      "name": "python"
    }
  },
  "cells": [
    {
      "cell_type": "markdown",
      "metadata": {
        "id": "view-in-github",
        "colab_type": "text"
      },
      "source": [
        "<a href=\"https://colab.research.google.com/github/thumindu007/python-projs/blob/main/currency.ipynb\" target=\"_parent\"><img src=\"https://colab.research.google.com/assets/colab-badge.svg\" alt=\"Open In Colab\"/></a>"
      ]
    },
    {
      "cell_type": "code",
      "metadata": {
        "id": "h-68b9OrBoCu",
        "colab": {
          "base_uri": "https://localhost:8080/"
        },
        "outputId": "677f7368-9f14-4eb6-d419-583329ee7389"
      },
      "source": [
        "def convert(currency, amount):\n",
        "  currencyrate = [147.5, 0.74, 80.19, 53.87, 0.53, 2.63, 4.75]\n",
        "  converted = 0\n",
        "  if currency == 'LKR':\n",
        "    converted = amount * currencyrate[0]\n",
        "  elif currency == 'USD':\n",
        "    converted = amount * currencyrate[1]\n",
        "  elif currency == 'YEN':\n",
        "    converted = amount * currencyrate[2]\n",
        "  elif currency == 'RUB':\n",
        "    converted = amount * currencyrate[3]\n",
        "  elif currency == 'GDP':\n",
        "    converted = amount * currencyrate[4]\n",
        "  elif currency == 'DOGE':\n",
        "    converted = amount * currencyrate[5]\n",
        "  elif currency == 'CNY':\n",
        "    converted = amount * currencyrate[6]\n",
        "  return converted\n",
        "\n",
        "def deconvert(currency, amount):\n",
        "  currencyrate = [0.0068, 1.36, 0.012, 0.019, 1.89, 0.44,0.21]\n",
        "  aud = 1\n",
        "  if currency == 'LKR':\n",
        "    converted = aud * currencyrate[0]\n",
        "  elif currency == 'USD':\n",
        "    converted = aud * currencyrate[1]\n",
        "  elif currency == 'YEN':\n",
        "    converted = aud * currencyrate[2]\n",
        "  elif currency == 'RUB':\n",
        "    converted = aud * currencyrate[3]\n",
        "  elif currency == 'GDP':\n",
        "    converted = aud * currencyrate[4]\n",
        "  elif currency == 'DOGE':\n",
        "    converted = aud * currencyrate[5]\n",
        "  elif currency == 'CNY':\n",
        "    converted = aud * currencyrate[6]\n",
        "  return converted\n",
        "\n",
        "currency = input(\"what is the currency you want to convert???????\")\n",
        "amount = float(input(\"want amount do you want to see the equiverlent of?\"))\n",
        "choice = input(\"do you want to convert aud or find the amount of aud. type 1 for first oppion and type 2 for second opption.\")\n",
        "if choice == '1':\n",
        "  newamount = convert(currency, amount)\n",
        "  print(newamount)\n",
        "\n",
        "if choice == '2':\n",
        "  newamount = deconvert(currency, amount)\n",
        "  print(newamount)\n"
      ],
      "execution_count": 10,
      "outputs": [
        {
          "output_type": "stream",
          "text": [
            "what is the currency you want to convert???????DOGE\n",
            "want amount do you want to see the equiverlent of?1\n",
            "do you want to convert aud or find the amount of aud. type 1 for first oppion and type 2 for second opption.2\n",
            "0.44\n"
          ],
          "name": "stdout"
        }
      ]
    }
  ]
}