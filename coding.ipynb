{
  "nbformat": 4,
  "nbformat_minor": 0,
  "metadata": {
    "colab": {
      "name": "coding.ipynb",
      "provenance": [],
      "authorship_tag": "ABX9TyMQN7txL94ZYUDsM3WFCNJf",
      "include_colab_link": true
    },
    "kernelspec": {
      "name": "python3",
      "display_name": "Python 3"
    },
    "language_info": {
      "name": "python"
    }
  },
  "cells": [
    {
      "cell_type": "markdown",
      "metadata": {
        "id": "view-in-github",
        "colab_type": "text"
      },
      "source": [
        "<a href=\"https://colab.research.google.com/github/thumindu007/python-projs/blob/main/coding.ipynb\" target=\"_parent\"><img src=\"https://colab.research.google.com/assets/colab-badge.svg\" alt=\"Open In Colab\"/></a>"
      ]
    },
    {
      "cell_type": "code",
      "metadata": {
        "colab": {
          "base_uri": "https://localhost:8080/"
        },
        "id": "5EhAcUaDDB65",
        "outputId": "c4ac0180-64e2-4e4e-ede7-6184ecac656a"
      },
      "source": [
        "import random\n",
        "sentencestarter = [\"At 3 am\", \"on the 45th of triember\", \"At that moment\"]\n",
        "character = [\"montgomery was a fat dude who plays minecraft\", \"Karren always wonderd \", \"obi-wan has higher ground than you all the time\"]\n",
        "time = [\"sunday\", \"wednesday\", \"friday\"]\n",
        "storyplot = [\"montgomery wanted to go see the world but fogot how to walk\", \"karren wanted to stop wondering\", \"obiwan had higher ground\"]\n",
        "place = [\"at montgomery's house in the basement\", \"in the garden\", \"on mustafar\"]\n",
        "secondcharacter = [\"montgomery's friend who wants him to keep playing\", \"karren's other mind who wants her to continue gardinging\", \"anakine thought of what he was good at\"]\n",
        "age = [\"26 year old\", \"same age\", \"probably 25 year old\"]\n",
        "work = [\"trying to infulence him to stay\", \"making her rethink her life\", \"anakine challenges obi-wan to a chess duel\"]\n",
        "a = random.choice(time)\n",
        "b = random.choice(sentencestarter)\n",
        "c = random.choice(place)\n",
        "d = random.choice(character)\n",
        "e = random.choice(storyplot)\n",
        "f = random.choice(age)\n",
        "g = random.choice(secondcharacter)\n",
        "h = random.choice(work)\n",
        "print(a , b , c , d , e , f , g , h)"
      ],
      "execution_count": 14,
      "outputs": [
        {
          "output_type": "stream",
          "text": [
            "friday At 3 am at montgomery's house in the basement Karren always wonderd  obiwan had higher ground 26 year old karren's other mind who wants her to continue gardinging trying to infulence him to stay\n"
          ],
          "name": "stdout"
        }
      ]
    },
    {
      "cell_type": "code",
      "metadata": {
        "colab": {
          "base_uri": "https://localhost:8080/"
        },
        "id": "UpofYrpUOZ-t",
        "outputId": "43396e00-6a14-4160-9d53-d3977165d1e8"
      },
      "source": [
        "stop = 0\n",
        "total = []\n",
        "words = [\"communism\", \"minecraft\", \"google\", \"windowselven\", \"axolotl\"]\n",
        "name = input(\"what is your name. O_o\")\n",
        "word = random.choice(words)\n",
        "amount = len(word)\n",
        "while stop < 20:\n",
        "  letter = input(\"guess a lettle of the word. no capitals. you have to guess in order. 20 wrong guesses and your out.\")\n",
        "  if letter in word:\n",
        "    total.append(letter)\n",
        "    print(\"you gotone\", total)\n",
        "    amount = amount - 1\n",
        "  else:\n",
        "    stop = stop + 1\n",
        "    moretoout = 20 - stop\n",
        "    print(\"thats wrong.\",moretooutn\n",
        "          , \"more guess and your out\")\n",
        "  if amount == 0:\n",
        "    print(\"you won\")\n",
        "    break\n"
      ],
      "execution_count": 22,
      "outputs": [
        {
          "output_type": "stream",
          "text": [
            "what is your name. O_othumindu\n",
            "guess a lettle of the word. no capitals. you have to guess in order. 20 wrong guesses and your out.m\n",
            "thats wrong. 19 more guess and your out\n",
            "guess a lettle of the word. no capitals. you have to guess in order. 20 wrong guesses and your out.a\n",
            "thats wrong. 18 more guess and your out\n",
            "guess a lettle of the word. no capitals. you have to guess in order. 20 wrong guesses and your out.w\n",
            "you gotone ['w']\n",
            "guess a lettle of the word. no capitals. you have to guess in order. 20 wrong guesses and your out.i\n",
            "you gotone ['w', 'i']\n",
            "guess a lettle of the word. no capitals. you have to guess in order. 20 wrong guesses and your out.n\n",
            "you gotone ['w', 'i', 'n']\n",
            "guess a lettle of the word. no capitals. you have to guess in order. 20 wrong guesses and your out.d\n",
            "you gotone ['w', 'i', 'n', 'd']\n",
            "guess a lettle of the word. no capitals. you have to guess in order. 20 wrong guesses and your out.o\n",
            "you gotone ['w', 'i', 'n', 'd', 'o']\n",
            "guess a lettle of the word. no capitals. you have to guess in order. 20 wrong guesses and your out.w\n",
            "you gotone ['w', 'i', 'n', 'd', 'o', 'w']\n",
            "guess a lettle of the word. no capitals. you have to guess in order. 20 wrong guesses and your out.s\n",
            "you gotone ['w', 'i', 'n', 'd', 'o', 'w', 's']\n",
            "guess a lettle of the word. no capitals. you have to guess in order. 20 wrong guesses and your out.e\n",
            "you gotone ['w', 'i', 'n', 'd', 'o', 'w', 's', 'e']\n",
            "guess a lettle of the word. no capitals. you have to guess in order. 20 wrong guesses and your out.l\n",
            "you gotone ['w', 'i', 'n', 'd', 'o', 'w', 's', 'e', 'l']\n",
            "guess a lettle of the word. no capitals. you have to guess in order. 20 wrong guesses and your out.e\n",
            "you gotone ['w', 'i', 'n', 'd', 'o', 'w', 's', 'e', 'l', 'e']\n",
            "guess a lettle of the word. no capitals. you have to guess in order. 20 wrong guesses and your out.v\n",
            "you gotone ['w', 'i', 'n', 'd', 'o', 'w', 's', 'e', 'l', 'e', 'v']\n",
            "guess a lettle of the word. no capitals. you have to guess in order. 20 wrong guesses and your out.e\n",
            "you gotone ['w', 'i', 'n', 'd', 'o', 'w', 's', 'e', 'l', 'e', 'v', 'e']\n",
            "you won\n"
          ],
          "name": "stdout"
        }
      ]
    }
  ]
}