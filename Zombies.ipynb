{
  "nbformat": 4,
  "nbformat_minor": 0,
  "metadata": {
    "colab": {
      "name": "Zombies.ipynb",
      "provenance": [],
      "collapsed_sections": [],
      "authorship_tag": "ABX9TyMtiHLeHth2XeKD6vX/ziFh",
      "include_colab_link": true
    },
    "kernelspec": {
      "name": "python3",
      "display_name": "Python 3"
    },
    "language_info": {
      "name": "python"
    }
  },
  "cells": [
    {
      "cell_type": "markdown",
      "metadata": {
        "id": "view-in-github",
        "colab_type": "text"
      },
      "source": [
        "<a href=\"https://colab.research.google.com/github/thumindu007/python-projs/blob/main/Zombies.ipynb\" target=\"_parent\"><img src=\"https://colab.research.google.com/assets/colab-badge.svg\" alt=\"Open In Colab\"/></a>"
      ]
    },
    {
      "cell_type": "code",
      "metadata": {
        "id": "elc5QPTtie28"
      },
      "source": [
        ""
      ],
      "execution_count": null,
      "outputs": []
    },
    {
      "cell_type": "code",
      "metadata": {
        "id": "bA2-SsyV-GE4",
        "colab": {
          "base_uri": "https://localhost:8080/"
        },
        "outputId": "f111342b-6a01-4140-8199-d14b079b82e6"
      },
      "source": [
        "#                                                                                             ZOMBIES AND MINIONS\n",
        "days = input(\"how many days do you want?\")\n",
        "minions = input(\"how many minions do you want?\")\n",
        "days = int(days)\n",
        "minions = int(minions)\n",
        "if days <= 0:\n",
        "  print(\"ERROR ERROR. the days have to be more than 0.     start again\")\n",
        "if minions <= 0:\n",
        "  print(\"ERROR ERROR. the minions have to be more than 0.  start again\")\n",
        "zombs = 5 * days + 2\n",
        "electroshock = days * minions + 10\n",
        "zombs = int(zombs)\n",
        "electroshock = int(electroshock)\n",
        "if zombs > electroshock:\n",
        "  print(\"HIRE MORE MINIONS!!!!!!!                          start again\")\n",
        "if zombs < electroshock:\n",
        "  print(\"OUTBREAK OF MINIONS. CAN'T BE CONTAINED!!!!!!!    start again\")\n",
        "if zombs == electroshock:\n",
        "  print(\"Outbreak can be controlled within the given days by hiring the given Minions.\")\n",
        "\n",
        "  print(\"MISSION     COMPLETE\")"
      ],
      "execution_count": null,
      "outputs": [
        {
          "output_type": "stream",
          "text": [
            "how many days do you want?10\n",
            "how many minions do you want?1\n",
            "HIRE MORE MINIONS!!!!!!!                          start again\n"
          ],
          "name": "stdout"
        }
      ]
    }
  ]
}