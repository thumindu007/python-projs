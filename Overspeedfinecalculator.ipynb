{
  "nbformat": 4,
  "nbformat_minor": 0,
  "metadata": {
    "colab": {
      "name": "Overspeedfinecalculator.ipynb",
      "provenance": [],
      "authorship_tag": "ABX9TyPRkg/ISXpE9jPKb2I0VKEu",
      "include_colab_link": true
    },
    "kernelspec": {
      "name": "python3",
      "display_name": "Python 3"
    },
    "language_info": {
      "name": "python"
    }
  },
  "cells": [
    {
      "cell_type": "markdown",
      "metadata": {
        "id": "view-in-github",
        "colab_type": "text"
      },
      "source": [
        "<a href=\"https://colab.research.google.com/github/thumindu007/python-projs/blob/main/Overspeedfinecalculator.ipynb\" target=\"_parent\"><img src=\"https://colab.research.google.com/assets/colab-badge.svg\" alt=\"Open In Colab\"/></a>"
      ]
    },
    {
      "cell_type": "code",
      "metadata": {
        "colab": {
          "base_uri": "https://localhost:8080/"
        },
        "id": "Am_fXCchka2r",
        "outputId": "ab79faa2-1820-4b62-bb75-2adb1498d71f"
      },
      "source": [
        "m = 1\n",
        "while m == 1:\n",
        "  l = int(input(\"what is the speed limit :\"))\n",
        "  s = int(input(\"what is your speed :\"))\n",
        "  if s - l > 0 and s - l <=10:\n",
        "    f = int((s - l) * 10 + 100)\n",
        "    print(\"$\",f)\n",
        "    m = int(input(\"Do you want to continue? type 1 if you want. If you don't type 2 :\"))\n",
        "  if s - l > 10 and s - l <= 20:\n",
        "    f = int((s - l) * 10 + 400)\n",
        "    print(\"$\",f)\n",
        "    m = int(input(\"Do you want to continue? type 1 if you want. If you don't type 2:\"))\n",
        "  if s - l > 20:\n",
        "    print(\"$\",f)\n",
        "    m = int(input(\"Do you want to continue? type 1 if you want. If you don't type 2 :\"))\n",
        "  if s - l > 0:\n",
        "    print(\"you have been good with $0 fine\")\n",
        "    m = int(input(\"Do you want to continue? type 1 if you want. If you don't type 2 :\"))"
      ],
      "execution_count": 14,
      "outputs": [
        {
          "output_type": "stream",
          "text": [
            "what is the speed limit :100\n",
            "what is your speed :100\n",
            "you have been good with $0 fine\n",
            "Do you want to continue? type 1 if you want. If you don't type 2 :1\n",
            "what is the speed limit :100\n",
            "what is your speed :110\n",
            "$ 200\n",
            "Do you want to continue? type 1 if you want. If you don't type 2 :1\n",
            "you have been good with $0 fine\n",
            "Do you want to continue? type 1 if you want. If you don't type 2 :1\n",
            "what is the speed limit :10\n",
            "what is your speed :20\n",
            "$ 200\n",
            "Do you want to continue? type 1 if you want. If you don't type 2 :100\n",
            "you have been good with $0 fine\n",
            "Do you want to continue? type 1 if you want. If you don't type 2 :2\n"
          ],
          "name": "stdout"
        }
      ]
    }
  ]
}