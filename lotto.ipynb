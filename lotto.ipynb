{
  "nbformat": 4,
  "nbformat_minor": 0,
  "metadata": {
    "colab": {
      "name": "lotto.ipynb",
      "provenance": [],
      "authorship_tag": "ABX9TyPvK8Z7Bq40lQfW7XjMcBD9",
      "include_colab_link": true
    },
    "kernelspec": {
      "name": "python3",
      "display_name": "Python 3"
    },
    "language_info": {
      "name": "python"
    }
  },
  "cells": [
    {
      "cell_type": "markdown",
      "metadata": {
        "id": "view-in-github",
        "colab_type": "text"
      },
      "source": [
        "<a href=\"https://colab.research.google.com/github/thumindu007/python-projs/blob/main/lotto.ipynb\" target=\"_parent\"><img src=\"https://colab.research.google.com/assets/colab-badge.svg\" alt=\"Open In Colab\"/></a>"
      ]
    },
    {
      "cell_type": "code",
      "metadata": {
        "id": "1qE2L4X0FXHZ",
        "colab": {
          "base_uri": "https://localhost:8080/"
        },
        "outputId": "13ea721b-10d1-4f48-dfdd-0d31de0ff2a3"
      },
      "source": [
        "import random \n",
        "\n",
        "def game(n1,n2,n3,n4):\n",
        "  r1 = random.randint(1,100)\n",
        "  r2 = random.randint(1,100)\n",
        "  r3 = random.randint(1,100)\n",
        "  r4 = random.randint(1,100)\n",
        "  if r1 == n1 and r2 == n2 and r3 == n3 and r4 == n4:\n",
        "    place = 1\n",
        "  elif r2 == n2 and r3 == n3 and r4 == n4:\n",
        "    place = 2\n",
        "  elif r3 == n3 and r4 == n4:\n",
        "    place = 3\n",
        "  elif r4 == n4:\n",
        "    place = 4\n",
        "  else:\n",
        "    place = 5\n",
        "  return place\n",
        "  return game\n",
        "def money(place):\n",
        "  if place == 1:\n",
        "    winning_money = 100000\n",
        "  elif place == 2:\n",
        "    winning_money = 10000\n",
        "  elif place == 3:\n",
        "    winning_money = 1000\n",
        "  elif place == 4:\n",
        "    winning_money = 100\n",
        "  else:\n",
        "    winning_money = 10\n",
        "  return winning_money\n",
        "n1 = int(input(\"what is your first guess?inbetween 1 and 100 \"))\n",
        "n2 = int(input(\"what is your second guess?inbetween 1 and 100 \"))\n",
        "n3 = int(input(\"what is your third guess?inbetween 1 and 100 \"))\n",
        "n4 = int(input(\"what is your fourth guess?inbetween 1 and 100 \"))\n",
        "winning_place = game(n1,n2,n3,n4)\n",
        "game(n1,n2,n3,n4)\n",
        "#money(winning_place)\n",
        "winmoney = money(winning_place)\n",
        "print(\"you won $\", winmoney, \".\")"
      ],
      "execution_count": 19,
      "outputs": [
        {
          "output_type": "stream",
          "text": [
            "what is your first guess?inbetween 1 and 100 34\n",
            "what is your second guess?inbetween 1 and 100 5\n",
            "what is your third guess?inbetween 1 and 100 32\n",
            "what is your fourth guess?inbetween 1 and 100 88\n",
            "you won $ 10 .\n"
          ],
          "name": "stdout"
        }
      ]
    }
  ]
}