{
  "nbformat": 4,
  "nbformat_minor": 0,
  "metadata": {
    "colab": {
      "name": "BMI.ipynb",
      "provenance": [],
      "authorship_tag": "ABX9TyP/Mrepo6IXAPPuy60pXOWg",
      "include_colab_link": true
    },
    "kernelspec": {
      "name": "python3",
      "display_name": "Python 3"
    },
    "language_info": {
      "name": "python"
    }
  },
  "cells": [
    {
      "cell_type": "markdown",
      "metadata": {
        "id": "view-in-github",
        "colab_type": "text"
      },
      "source": [
        "<a href=\"https://colab.research.google.com/github/thumindu007/python-projs/blob/main/BMI.ipynb\" target=\"_parent\"><img src=\"https://colab.research.google.com/assets/colab-badge.svg\" alt=\"Open In Colab\"/></a>"
      ]
    },
    {
      "cell_type": "code",
      "metadata": {
        "colab": {
          "base_uri": "https://localhost:8080/"
        },
        "id": "enGcV-iDYooE",
        "outputId": "691f846d-4108-493a-8b3f-730a04ee2f2f"
      },
      "source": [
        "def bmi(weight, height):\n",
        "  bmi = weight / (height * height)\n",
        "  return bmi\n",
        "w = float(input(\"what your weight\"))\n",
        "h = float(input(\"how tall are you. answer in metres\"))\n",
        "if bmi(w, h) <= 16:\n",
        "  print(\"ur pety thin\")\n",
        "elif bmi(w, h) <= 17:\n",
        "  print(\"ur moderatly thin\")\n",
        "elif bmi(w, h) <= 18.5:\n",
        "  print(\"mild thines\")\n",
        "elif bmi(w, h) <= 17:\n",
        "  print(\"ur moderatly thin\")\n",
        "elif bmi(w, h) <= 25:\n",
        "  print(\"ur normal\")\n",
        "elif bmi(w, h) <= 30:\n",
        "  print(\"ur OVERWEIGHT\")\n",
        "elif bmi(w, h) <= 35:\n",
        "  print(\"ur very overweight\")\n",
        "elif bmi(w, h) <= 40:\n",
        "  print(\"ur very, very overweight\")\n",
        "elif bmi(w, h) > 40:\n",
        "  print(\"ur very, very, very overweight\")"
      ],
      "execution_count": 14,
      "outputs": [
        {
          "output_type": "stream",
          "text": [
            "what your weight40\n",
            "how tall are you. answer in metres1.40\n",
            "ur normal\n"
          ],
          "name": "stdout"
        }
      ]
    }
  ]
}