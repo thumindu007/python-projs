{
  "nbformat": 4,
  "nbformat_minor": 0,
  "metadata": {
    "colab": {
      "name": "seasons.ipynb",
      "provenance": [],
      "authorship_tag": "ABX9TyOn5TSa3pLvh5tOaOYNK7rw",
      "include_colab_link": true
    },
    "kernelspec": {
      "name": "python3",
      "display_name": "Python 3"
    },
    "language_info": {
      "name": "python"
    }
  },
  "cells": [
    {
      "cell_type": "markdown",
      "metadata": {
        "id": "view-in-github",
        "colab_type": "text"
      },
      "source": [
        "<a href=\"https://colab.research.google.com/github/thumindu007/python-projs/blob/main/seasons.ipynb\" target=\"_parent\"><img src=\"https://colab.research.google.com/assets/colab-badge.svg\" alt=\"Open In Colab\"/></a>"
      ]
    },
    {
      "cell_type": "code",
      "execution_count": 4,
      "metadata": {
        "colab": {
          "base_uri": "https://localhost:8080/"
        },
        "id": "UbTOH7tAKGMk",
        "outputId": "1641c20b-496e-48ea-c7b8-a3fe15b66dc5"
      },
      "outputs": [
        {
          "name": "stdout",
          "output_type": "stream",
          "text": [
            "enter somthing summer is gud\n",
            "result: 'summer' with 77% confidence\n",
            "do you want to exit, if yes type 'yes' if no type 'no'.no\n",
            "enter somthing e\n",
            "result: 'spring' with 11% confidence\n",
            "do you want to exit, if yes type 'yes' if no type 'no'.yes\n"
          ]
        }
      ],
      "source": [
        "import requests\n",
        "\n",
        "# This function will pass your text to the machine learning model\n",
        "# and return the top result with the highest confidence\n",
        "def classify(text):\n",
        "    key = \"ad569d80-86ff-11ec-8570-fdf276c3d1fbf1a9d36b-794c-4cb6-962f-deafe743e7a6\"\n",
        "    url = \"https://machinelearningforkids.co.uk/api/scratch/\"+ key + \"/classify\"\n",
        "\n",
        "    response = requests.get(url, params={ \"data\" : text })\n",
        "\n",
        "    if response.ok:\n",
        "        responseData = response.json()\n",
        "        topMatch = responseData[0]\n",
        "        return topMatch\n",
        "    else:\n",
        "        response.raise_for_status()\n",
        "\n",
        "\n",
        "# CHANGE THIS to something you want your machine learning model to classify\n",
        "while True:\n",
        "  test = input(\"enter somthing \")\n",
        "  demo = classify(test)\n",
        "\n",
        "  label = demo[\"class_name\"]\n",
        "  confidence = demo[\"confidence\"]\n",
        "\n",
        "\n",
        "  # CHANGE THIS to do something different with the result\n",
        "  print (\"result: '%s' with %d%% confidence\" % (label, confidence))\n",
        "  a = input(\"do you want to exit, if yes type 'yes' if no type 'no'.\")\n",
        "  if a == 'yes':\n",
        "    break\n",
        "\n",
        "print(\"you have ended the code\")"
      ]
    }
  ]
}