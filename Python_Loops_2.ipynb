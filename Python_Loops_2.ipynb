{
  "nbformat": 4,
  "nbformat_minor": 0,
  "metadata": {
    "colab": {
      "name": "Python Loops -2.ipynb",
      "provenance": [],
      "authorship_tag": "ABX9TyMEA2thlf4Elyt3g0UCmuXO",
      "include_colab_link": true
    },
    "kernelspec": {
      "name": "python3",
      "display_name": "Python 3"
    },
    "language_info": {
      "name": "python"
    }
  },
  "cells": [
    {
      "cell_type": "markdown",
      "metadata": {
        "id": "view-in-github",
        "colab_type": "text"
      },
      "source": [
        "<a href=\"https://colab.research.google.com/github/thumindu007/python-projs/blob/main/Python_Loops_2.ipynb\" target=\"_parent\"><img src=\"https://colab.research.google.com/assets/colab-badge.svg\" alt=\"Open In Colab\"/></a>"
      ]
    },
    {
      "cell_type": "code",
      "metadata": {
        "colab": {
          "base_uri": "https://localhost:8080/"
        },
        "id": "Lhz36fWv7UEK",
        "outputId": "991f99ea-c7e7-4afe-f32d-63272be9ce0f"
      },
      "source": [
        "#                                    Task 1\n",
        "number_list = []\n",
        "sum = 0\n",
        "amount = int(input(\"how much numbers do you want to add? \"))\n",
        "for counter in range(0,amount):\n",
        "  number = int(input(\"what is a number\"))\n",
        "  number_list.append(number)\n",
        "  print(number_list)\n",
        "  sum = sum + number\n",
        "print(sum)"
      ],
      "execution_count": 17,
      "outputs": [
        {
          "output_type": "stream",
          "text": [
            "how much numbers do you want to add? 5\n",
            "what is a number1\n",
            "[1]\n",
            "what is a number3\n",
            "[1, 3]\n",
            "what is a number6\n",
            "[1, 3, 6]\n",
            "what is a number2\n",
            "[1, 3, 6, 2]\n",
            "what is a number3\n",
            "[1, 3, 6, 2, 3]\n",
            "15\n"
          ],
          "name": "stdout"
        }
      ]
    },
    {
      "cell_type": "code",
      "metadata": {
        "colab": {
          "base_uri": "https://localhost:8080/"
        },
        "id": "lRZhRU8n-G2A",
        "outputId": "347c08a5-6fda-4667-e68a-e178353f6c79"
      },
      "source": [
        "#                                    Task 2\n",
        "number_list = []\n",
        "product = 1\n",
        "amount = int(input(\"how much numbers do you want to find the product to? \"))\n",
        "for counter in range(0,amount):\n",
        "  number = int(input(\"what is a number\"))\n",
        "  number_list.append(number)\n",
        "  print(number_list)\n",
        "  product = product * number\n",
        "print(product)"
      ],
      "execution_count": 7,
      "outputs": [
        {
          "output_type": "stream",
          "text": [
            "how much numbers do you want to find the product to? 3\n",
            "what is a number2\n",
            "[2]\n",
            "what is a number2\n",
            "[2, 2]\n",
            "what is a number6\n",
            "[2, 2, 6]\n",
            "24\n"
          ],
          "name": "stdout"
        }
      ]
    },
    {
      "cell_type": "code",
      "metadata": {
        "colab": {
          "base_uri": "https://localhost:8080/"
        },
        "id": "WfgMWG4YB77g",
        "outputId": "5f2d5bca-317a-422c-d6ab-d822b25e7d3c"
      },
      "source": [
        "#                                    Task 3\n",
        "number = int(input(\"what is the number you want to find the power of? \"))\n",
        "answer = number\n",
        "power = int(input(\"what is the power? \"))\n",
        "for counter in range (1,power):\n",
        "  answer = answer * number\n",
        "  print(answer)\n",
        "print(\"The power is \", answer)"
      ],
      "execution_count": 16,
      "outputs": [
        {
          "output_type": "stream",
          "text": [
            "what is the number you want to find the power of? 5\n",
            "what is the power? 4\n",
            "25\n",
            "125\n",
            "625\n",
            "The power is  625\n"
          ],
          "name": "stdout"
        }
      ]
    }
  ]
}