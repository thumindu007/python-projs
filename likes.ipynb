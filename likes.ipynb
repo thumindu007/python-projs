{
  "nbformat": 4,
  "nbformat_minor": 0,
  "metadata": {
    "colab": {
      "name": "likes.ipynb",
      "provenance": [],
      "authorship_tag": "ABX9TyOO9QLl2mNRL5T43Z/FTGyN",
      "include_colab_link": true
    },
    "kernelspec": {
      "name": "python3",
      "display_name": "Python 3"
    },
    "language_info": {
      "name": "python"
    }
  },
  "cells": [
    {
      "cell_type": "markdown",
      "metadata": {
        "id": "view-in-github",
        "colab_type": "text"
      },
      "source": [
        "<a href=\"https://colab.research.google.com/github/thumindu007/python-projs/blob/main/likes.ipynb\" target=\"_parent\"><img src=\"https://colab.research.google.com/assets/colab-badge.svg\" alt=\"Open In Colab\"/></a>"
      ]
    },
    {
      "cell_type": "code",
      "execution_count": 9,
      "metadata": {
        "colab": {
          "base_uri": "https://localhost:8080/"
        },
        "id": "nwUztdJcGOUP",
        "outputId": "cf27f10c-1e5b-483e-900b-9f58fc19197f"
      },
      "outputs": [
        {
          "output_type": "stream",
          "name": "stdout",
          "text": [
            "thumindu, bigboy and 2 people liked your post\n"
          ]
        }
      ],
      "source": [
        "def people(lst):\n",
        "  likecount = len(lst)\n",
        "  if likecount < 1:\n",
        "    print(\"No one like your post\")\n",
        "  elif likecount < 2:\n",
        "    print(lst[0], \"liked your post\")\n",
        "  elif likecount < 3:\n",
        "    print(lst[0],'and', lst[1], \"liked your post\")\n",
        "  elif likecount < 4:\n",
        "    print(lst[0],'and', lst[1], lst[1], \"liked your post\")\n",
        "  else:\n",
        "    print(lst[0]+',', lst[1], 'and',(len(lst)-2),\"people liked your post\")\n",
        "\n",
        "\n",
        "lst = ['thumindu', 'bigboy', 'tjhtjhjtuhjtughj', 'qwerty']\n",
        "people(lst)"
      ]
    }
  ]
}